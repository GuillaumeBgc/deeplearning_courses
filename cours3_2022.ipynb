{
  "cells": [
    {
      "cell_type": "markdown",
      "metadata": {
        "id": "view-in-github",
        "colab_type": "text"
      },
      "source": [
        "<a href=\"https://colab.research.google.com/github/GuillaumeBgc/deeplearning_courses/blob/main/cours3_2022.ipynb\" target=\"_parent\"><img src=\"https://colab.research.google.com/assets/colab-badge.svg\" alt=\"Open In Colab\"/></a>"
      ]
    },
    {
      "cell_type": "markdown",
      "metadata": {
        "id": "0bV0siAoYU7N"
      },
      "source": [
        "# NLTK ET SPACY"
      ]
    },
    {
      "cell_type": "markdown",
      "metadata": {
        "id": "Dai893fDYU7R"
      },
      "source": [
        "# A) Traitements élémentaires sans bibliothèques"
      ]
    },
    {
      "cell_type": "markdown",
      "metadata": {
        "id": "aqnb_jrjYU7T"
      },
      "source": [
        "### Package pour la suppression des accents"
      ]
    },
    {
      "cell_type": "code",
      "execution_count": 1,
      "metadata": {
        "colab": {
          "base_uri": "https://localhost:8080/"
        },
        "id": "16ZQXGdrYU7T",
        "outputId": "6ebe036e-5751-4350-a283-c7bdc361453c"
      },
      "outputs": [
        {
          "output_type": "stream",
          "name": "stdout",
          "text": [
            "Looking in indexes: https://pypi.org/simple, https://us-python.pkg.dev/colab-wheels/public/simple/\n",
            "Collecting unidecode\n",
            "  Downloading Unidecode-1.3.6-py3-none-any.whl (235 kB)\n",
            "\u001b[K     |████████████████████████████████| 235 kB 8.5 MB/s \n",
            "\u001b[?25hInstalling collected packages: unidecode\n",
            "Successfully installed unidecode-1.3.6\n"
          ]
        }
      ],
      "source": [
        "!pip install unidecode"
      ]
    },
    {
      "cell_type": "markdown",
      "metadata": {
        "id": "fXj6chQaYU7V"
      },
      "source": [
        "### Chargement de String"
      ]
    },
    {
      "cell_type": "code",
      "execution_count": 2,
      "metadata": {
        "id": "Yj2rv9tHYU7W"
      },
      "outputs": [],
      "source": [
        "import string"
      ]
    },
    {
      "cell_type": "code",
      "execution_count": 3,
      "metadata": {
        "id": "wmm_UgMCYU7X"
      },
      "outputs": [],
      "source": [
        "texte = \"La France france FRANCE\""
      ]
    },
    {
      "cell_type": "markdown",
      "metadata": {
        "id": "NHmClmd5YU7Y"
      },
      "source": [
        "### Découpage en mots"
      ]
    },
    {
      "cell_type": "code",
      "execution_count": 4,
      "metadata": {
        "id": "bdU3dcs4YU7Z"
      },
      "outputs": [],
      "source": [
        "mots = texte.split()"
      ]
    },
    {
      "cell_type": "code",
      "execution_count": 5,
      "metadata": {
        "colab": {
          "base_uri": "https://localhost:8080/"
        },
        "id": "keO_7xJnYU7a",
        "outputId": "f0f5842b-5393-4b44-a394-0b10fe6b586b"
      },
      "outputs": [
        {
          "output_type": "execute_result",
          "data": {
            "text/plain": [
              "['La', 'France', 'france', 'FRANCE']"
            ]
          },
          "metadata": {},
          "execution_count": 5
        }
      ],
      "source": [
        "mots"
      ]
    },
    {
      "cell_type": "code",
      "execution_count": 6,
      "metadata": {
        "id": "gcnj6puJYU7b"
      },
      "outputs": [],
      "source": [
        "# liste du vocabulaire\n",
        "vocab = set(texte.split())"
      ]
    },
    {
      "cell_type": "code",
      "execution_count": 7,
      "metadata": {
        "colab": {
          "base_uri": "https://localhost:8080/"
        },
        "id": "ifx-G1jaYU7b",
        "outputId": "8b01d89e-d6a3-43c5-a143-43de2efaf5e1"
      },
      "outputs": [
        {
          "output_type": "execute_result",
          "data": {
            "text/plain": [
              "{'FRANCE', 'France', 'La', 'france'}"
            ]
          },
          "metadata": {},
          "execution_count": 7
        }
      ],
      "source": [
        "vocab"
      ]
    },
    {
      "cell_type": "markdown",
      "metadata": {
        "id": "ACcWemaRYU7c"
      },
      "source": [
        "### Liste du vocabulaire après traitement de la casse"
      ]
    },
    {
      "cell_type": "code",
      "execution_count": 8,
      "metadata": {
        "id": "oKAgf6fvYU7d"
      },
      "outputs": [],
      "source": [
        "vocab = set(texte.lower().split())"
      ]
    },
    {
      "cell_type": "code",
      "execution_count": 9,
      "metadata": {
        "colab": {
          "base_uri": "https://localhost:8080/"
        },
        "id": "3JFVQbM-YU7d",
        "outputId": "f389e0f8-9c9d-4556-f0c2-b97be83fb7ed"
      },
      "outputs": [
        {
          "output_type": "execute_result",
          "data": {
            "text/plain": [
              "{'france', 'la'}"
            ]
          },
          "metadata": {},
          "execution_count": 9
        }
      ],
      "source": [
        "vocab"
      ]
    },
    {
      "cell_type": "code",
      "execution_count": 10,
      "metadata": {
        "id": "OoDYIOUYYU7e"
      },
      "outputs": [],
      "source": [
        "texte = \"Son caractère excentré vis-à-vis de sa région lui donne néanmoins un atout non négligeable qu'est le fait d'avoir une position centrale dans le Grand Ouest français, c'est ainsi que Rennes se situe à une distance plus ou moins égale des grands ports maritimes de l'Ouest que sont Le Havre (204 km) et La Rochelle (220 km) ainsi que le port maritime et militaire de Brest (210 km), la ville se situe aussi à 120 km du grand port maritime de Nantes-Saint-Nazaire.\""
      ]
    },
    {
      "cell_type": "code",
      "execution_count": 11,
      "metadata": {
        "colab": {
          "base_uri": "https://localhost:8080/",
          "height": 70
        },
        "id": "Wt8mmmeiYU7f",
        "outputId": "041a534f-44b0-4143-ba11-208fb2497692"
      },
      "outputs": [
        {
          "output_type": "execute_result",
          "data": {
            "text/plain": [
              "\"Son caractère excentré vis-à-vis de sa région lui donne néanmoins un atout non négligeable qu'est le fait d'avoir une position centrale dans le Grand Ouest français, c'est ainsi que Rennes se situe à une distance plus ou moins égale des grands ports maritimes de l'Ouest que sont Le Havre (204 km) et La Rochelle (220 km) ainsi que le port maritime et militaire de Brest (210 km), la ville se situe aussi à 120 km du grand port maritime de Nantes-Saint-Nazaire.\""
            ],
            "application/vnd.google.colaboratory.intrinsic+json": {
              "type": "string"
            }
          },
          "metadata": {},
          "execution_count": 11
        }
      ],
      "source": [
        "texte"
      ]
    },
    {
      "cell_type": "markdown",
      "metadata": {
        "id": "9qpVVFeuYU7f"
      },
      "source": [
        "### Suppression des accents"
      ]
    },
    {
      "cell_type": "code",
      "execution_count": 12,
      "metadata": {
        "colab": {
          "base_uri": "https://localhost:8080/",
          "height": 0
        },
        "id": "I2RSeOe3YU7g",
        "outputId": "1432a696-d3d1-4a0e-8899-76f946804153"
      },
      "outputs": [
        {
          "output_type": "execute_result",
          "data": {
            "text/plain": [
              "\"Son caractere excentre vis-a-vis de sa region lui donne neanmoins un atout non negligeable qu'est le fait d'avoir une position centrale dans le Grand Ouest francais, c'est ainsi que Rennes se situe a une distance plus ou moins egale des grands ports maritimes de l'Ouest que sont Le Havre (204 km) et La Rochelle (220 km) ainsi que le port maritime et militaire de Brest (210 km), la ville se situe aussi a 120 km du grand port maritime de Nantes-Saint-Nazaire.\""
            ],
            "application/vnd.google.colaboratory.intrinsic+json": {
              "type": "string"
            }
          },
          "metadata": {},
          "execution_count": 12
        }
      ],
      "source": [
        "# Utilisation de Unidecode\n",
        "from unidecode import unidecode\n",
        "unidecode(texte)"
      ]
    },
    {
      "cell_type": "code",
      "execution_count": 13,
      "metadata": {
        "colab": {
          "base_uri": "https://localhost:8080/"
        },
        "id": "nC5SUBizYU7g",
        "outputId": "a7ee7852-669b-4f66-e58c-03ca2842bc7e"
      },
      "outputs": [
        {
          "output_type": "stream",
          "name": "stdout",
          "text": [
            "Help on function unidecode_expect_ascii in module unidecode:\n",
            "\n",
            "unidecode_expect_ascii(string: str, errors: str = 'ignore', replace_str: str = '?') -> str\n",
            "    Transliterate an Unicode object into an ASCII string\n",
            "    \n",
            "    >>> unidecode(\"北亰\")\n",
            "    \"Bei Jing \"\n",
            "    \n",
            "    This function first tries to convert the string using ASCII codec.\n",
            "    If it fails (because of non-ASCII characters), it falls back to\n",
            "    transliteration using the character tables.\n",
            "    \n",
            "    This is approx. five times faster if the string only contains ASCII\n",
            "    characters, but slightly slower than unicode_expect_nonascii if\n",
            "    non-ASCII characters are present.\n",
            "    \n",
            "    errors specifies what to do with characters that have not been\n",
            "    found in replacement tables. The default is 'ignore' which ignores\n",
            "    the character. 'strict' raises an UnidecodeError. 'replace'\n",
            "    substitutes the character with replace_str (default is '?').\n",
            "    'preserve' keeps the original character.\n",
            "    \n",
            "    Note that if 'preserve' is used the returned string might not be\n",
            "    ASCII!\n",
            "\n"
          ]
        }
      ],
      "source": [
        "help(unidecode)"
      ]
    },
    {
      "cell_type": "markdown",
      "metadata": {
        "id": "DcnFETCzYU7h"
      },
      "source": [
        "### Découpage en mots"
      ]
    },
    {
      "cell_type": "code",
      "execution_count": 14,
      "metadata": {
        "colab": {
          "base_uri": "https://localhost:8080/"
        },
        "id": "OP_g9ukLYU7i",
        "outputId": "0d182d95-7b93-44ee-b448-c9a702388464"
      },
      "outputs": [
        {
          "output_type": "execute_result",
          "data": {
            "text/plain": [
              "['je', 'suis', 'ici.']"
            ]
          },
          "metadata": {},
          "execution_count": 14
        }
      ],
      "source": [
        "#Simple Tockenisation\n",
        "'je suis ici.'.split()"
      ]
    },
    {
      "cell_type": "code",
      "execution_count": 15,
      "metadata": {
        "id": "UqROVGcGYU7i"
      },
      "outputs": [],
      "source": [
        "s=\"j'ai dormi et je n'ai plus sommeil\""
      ]
    },
    {
      "cell_type": "code",
      "execution_count": 16,
      "metadata": {
        "colab": {
          "base_uri": "https://localhost:8080/"
        },
        "id": "LN7Cp8I-YU7j",
        "outputId": "0962e512-1436-42ff-c35a-bcb55eb5bce8"
      },
      "outputs": [
        {
          "output_type": "execute_result",
          "data": {
            "text/plain": [
              "{'ai', 'dormi', 'et', 'j', 'je', 'n', 'plus', 'sommeil'}"
            ]
          },
          "metadata": {},
          "execution_count": 16
        }
      ],
      "source": [
        "#Tockenisation \n",
        "set(s.replace(\"'\", ' ').split())"
      ]
    },
    {
      "cell_type": "code",
      "execution_count": 17,
      "metadata": {
        "id": "rYH3A4jEYU7k"
      },
      "outputs": [],
      "source": [
        "#import tockenizer\n",
        "from nltk.tokenize import RegexpTokenizer\n",
        "#Tockenisation avec Reg Exp\n",
        "tokenizer = RegexpTokenizer('\\w+')"
      ]
    },
    {
      "cell_type": "code",
      "execution_count": 18,
      "metadata": {
        "colab": {
          "base_uri": "https://localhost:8080/"
        },
        "id": "8ADHEAwfYU7k",
        "outputId": "a34f8e86-bb8d-4de9-cf78-c2441727055a"
      },
      "outputs": [
        {
          "output_type": "execute_result",
          "data": {
            "text/plain": [
              "['je', 'suis', 'ici']"
            ]
          },
          "metadata": {},
          "execution_count": 18
        }
      ],
      "source": [
        "tokenizer.tokenize('je suis ici.')"
      ]
    },
    {
      "cell_type": "code",
      "execution_count": 19,
      "metadata": {
        "colab": {
          "base_uri": "https://localhost:8080/"
        },
        "id": "sCRD4XdNYU7l",
        "outputId": "05f06902-6920-44d7-adf1-c9a22b7f2a3d"
      },
      "outputs": [
        {
          "output_type": "execute_result",
          "data": {
            "text/plain": [
              "{'ai', 'dormi', 'et', 'je', 'ne', 'plus', 'sommeil'}"
            ]
          },
          "metadata": {},
          "execution_count": 19
        }
      ],
      "source": [
        "#Traitement des formes élidées\n",
        "set(s.replace(\"'\", \"e \").split())"
      ]
    },
    {
      "cell_type": "markdown",
      "metadata": {
        "id": "LDfkPl_oYU7l"
      },
      "source": [
        "### Utilisation de String"
      ]
    },
    {
      "cell_type": "code",
      "execution_count": 20,
      "metadata": {
        "colab": {
          "base_uri": "https://localhost:8080/",
          "height": 0
        },
        "id": "BXtxfUvZYU7m",
        "outputId": "0a0d3dd4-59ea-4c0c-910b-32abd4f7b7bd"
      },
      "outputs": [
        {
          "output_type": "execute_result",
          "data": {
            "text/plain": [
              "'abcdefghijklmnopqrstuvwxyzABCDEFGHIJKLMNOPQRSTUVWXYZ'"
            ],
            "application/vnd.google.colaboratory.intrinsic+json": {
              "type": "string"
            }
          },
          "metadata": {},
          "execution_count": 20
        }
      ],
      "source": [
        "#String\n",
        "string.ascii_letters"
      ]
    },
    {
      "cell_type": "code",
      "execution_count": 21,
      "metadata": {
        "colab": {
          "base_uri": "https://localhost:8080/",
          "height": 0
        },
        "id": "Hcu4Rlp9YU7m",
        "outputId": "e2cc7a1d-0128-45b3-b7d7-b477ad3a02d2"
      },
      "outputs": [
        {
          "output_type": "execute_result",
          "data": {
            "text/plain": [
              "'abcdefghijklmnopqrstuvwxyz'"
            ],
            "application/vnd.google.colaboratory.intrinsic+json": {
              "type": "string"
            }
          },
          "metadata": {},
          "execution_count": 21
        }
      ],
      "source": [
        "string.ascii_lowercase"
      ]
    },
    {
      "cell_type": "code",
      "execution_count": 22,
      "metadata": {
        "colab": {
          "base_uri": "https://localhost:8080/",
          "height": 0
        },
        "id": "OBJsBSJRYU7m",
        "outputId": "4324f286-13f1-44c3-8838-318b993d08fb"
      },
      "outputs": [
        {
          "output_type": "execute_result",
          "data": {
            "text/plain": [
              "'ABCDEFGHIJKLMNOPQRSTUVWXYZ'"
            ],
            "application/vnd.google.colaboratory.intrinsic+json": {
              "type": "string"
            }
          },
          "metadata": {},
          "execution_count": 22
        }
      ],
      "source": [
        "string.ascii_uppercase"
      ]
    },
    {
      "cell_type": "code",
      "execution_count": 23,
      "metadata": {
        "colab": {
          "base_uri": "https://localhost:8080/",
          "height": 0
        },
        "id": "LsAhWyaRYU7n",
        "outputId": "7a0ade7f-75cb-40fa-b615-ad17b235965d"
      },
      "outputs": [
        {
          "output_type": "execute_result",
          "data": {
            "text/plain": [
              "'!\"#$%&\\'()*+,-./:;<=>?@[\\\\]^_`{|}~'"
            ],
            "application/vnd.google.colaboratory.intrinsic+json": {
              "type": "string"
            }
          },
          "metadata": {},
          "execution_count": 23
        }
      ],
      "source": [
        "string.punctuation"
      ]
    },
    {
      "cell_type": "code",
      "execution_count": 24,
      "metadata": {
        "id": "apukG6PeYU7n"
      },
      "outputs": [],
      "source": [
        "punct = string.punctuation.replace('!', '')"
      ]
    },
    {
      "cell_type": "code",
      "execution_count": 25,
      "metadata": {
        "id": "3-ti6-NbYU7o"
      },
      "outputs": [],
      "source": [
        "texte = \"À partir des années 1950, la commune surnommée « ville des administrations » connaît un essor économique, urbain et démographique lié notamment à l'exode rural et à une industrialisation nouvelle (usine automobile de PSA La Janais).\""
      ]
    },
    {
      "cell_type": "code",
      "execution_count": 26,
      "metadata": {
        "colab": {
          "base_uri": "https://localhost:8080/",
          "height": 0
        },
        "id": "Bna2Sj5qYU7p",
        "outputId": "7a3960e4-3722-4268-9214-34f5070cc15c"
      },
      "outputs": [
        {
          "output_type": "execute_result",
          "data": {
            "text/plain": [
              "'À partir des années 1950  la commune surnommée « ville des administrations » connaît un essor économique  urbain et démographique lié notamment à l exode rural et à une industrialisation nouvelle  usine automobile de PSA La Janais  '"
            ],
            "application/vnd.google.colaboratory.intrinsic+json": {
              "type": "string"
            }
          },
          "metadata": {},
          "execution_count": 26
        }
      ],
      "source": [
        "#Suppression de la ponctuation\n",
        "for pun in punct:\n",
        "    texte = texte.replace(pun, ' ')\n",
        "texte"
      ]
    },
    {
      "cell_type": "markdown",
      "metadata": {
        "id": "5o5n-IDwYU7q"
      },
      "source": [
        "# B) NLTK"
      ]
    },
    {
      "cell_type": "markdown",
      "metadata": {
        "id": "qkFUZpzPYU7r"
      },
      "source": [
        "### Importer NLTK"
      ]
    },
    {
      "cell_type": "code",
      "execution_count": 27,
      "metadata": {
        "id": "161zbUj_YU7r"
      },
      "outputs": [],
      "source": [
        "import nltk\n",
        "from nltk.stem import PorterStemmer\n",
        "from nltk.stem import WordNetLemmatizer\n",
        "from nltk.stem.snowball import FrenchStemmer\n",
        "from nltk.tokenize import RegexpTokenizer\n",
        "from nltk.corpus import stopwords\n",
        "# from stop_words import get_stop_words\n",
        "from nltk.tokenize import word_tokenize\n"
      ]
    },
    {
      "cell_type": "code",
      "execution_count": 28,
      "metadata": {
        "colab": {
          "base_uri": "https://localhost:8080/"
        },
        "id": "GlBPyaBNYU7s",
        "outputId": "ccb3ce1c-d0d9-42f4-aeb7-43f7ecc38566"
      },
      "outputs": [
        {
          "output_type": "stream",
          "name": "stderr",
          "text": [
            "[nltk_data] Downloading package stopwords to /root/nltk_data...\n",
            "[nltk_data]   Unzipping corpora/stopwords.zip.\n"
          ]
        },
        {
          "output_type": "execute_result",
          "data": {
            "text/plain": [
              "True"
            ]
          },
          "metadata": {},
          "execution_count": 28
        }
      ],
      "source": [
        "nltk.download('stopwords')"
      ]
    },
    {
      "cell_type": "code",
      "execution_count": 29,
      "metadata": {
        "colab": {
          "base_uri": "https://localhost:8080/"
        },
        "id": "tHTD74k2YU7s",
        "outputId": "94ffd738-9440-46ac-84ad-94b1e6918a59"
      },
      "outputs": [
        {
          "output_type": "stream",
          "name": "stderr",
          "text": [
            "[nltk_data] Downloading package wordnet to /root/nltk_data...\n"
          ]
        },
        {
          "output_type": "execute_result",
          "data": {
            "text/plain": [
              "True"
            ]
          },
          "metadata": {},
          "execution_count": 29
        }
      ],
      "source": [
        "nltk.download('wordnet')"
      ]
    },
    {
      "cell_type": "code",
      "execution_count": 30,
      "metadata": {
        "colab": {
          "base_uri": "https://localhost:8080/"
        },
        "id": "A8xK1rO9YU7s",
        "outputId": "b7692fd8-b9f4-4257-cf61-a56eba916a0f"
      },
      "outputs": [
        {
          "output_type": "stream",
          "name": "stderr",
          "text": [
            "[nltk_data] Downloading package punkt to /root/nltk_data...\n",
            "[nltk_data]   Unzipping tokenizers/punkt.zip.\n"
          ]
        },
        {
          "output_type": "execute_result",
          "data": {
            "text/plain": [
              "True"
            ]
          },
          "metadata": {},
          "execution_count": 30
        }
      ],
      "source": [
        "nltk.download('punkt')"
      ]
    },
    {
      "cell_type": "markdown",
      "metadata": {
        "id": "wWnE9z8ZYU7t"
      },
      "source": [
        "### Tockenisation"
      ]
    },
    {
      "cell_type": "code",
      "execution_count": 31,
      "metadata": {
        "colab": {
          "base_uri": "https://localhost:8080/"
        },
        "id": "0uBF4MMDYU7t",
        "outputId": "1d3f70c6-ca98-4193-9905-28bbe72a1ef4"
      },
      "outputs": [
        {
          "output_type": "stream",
          "name": "stdout",
          "text": [
            "Bouygues a eu une coupure de réseau à Marseille.\n",
            "Des milliers de marseillais ont été privés d'Internet.\n"
          ]
        }
      ],
      "source": [
        "# Méthodes de tockenisation avec NLTK\n",
        "#Segmentation de phrases\n",
        "from nltk.tokenize import sent_tokenize\n",
        "# On crée un texte composé de plusieurs phrases\n",
        "text = \"Bouygues a eu une coupure de réseau à Marseille. Des milliers de marseillais ont été privés d'Internet.\"\n",
        "\n",
        "# On utilise la fonction de segmentation sur notre texte\n",
        "sentences = sent_tokenize(text, language = 'french')\n",
        "\n",
        "# On affiche le résultat\n",
        "for sent in sentences:\n",
        "    print(sent)"
      ]
    },
    {
      "cell_type": "code",
      "execution_count": 32,
      "metadata": {
        "colab": {
          "base_uri": "https://localhost:8080/"
        },
        "id": "_E0uhK8VYU7u",
        "outputId": "13dc8dee-bfcc-4f87-ed08-305e8e3b7994"
      },
      "outputs": [
        {
          "output_type": "stream",
          "name": "stdout",
          "text": [
            "['Bouygues', 'a', 'eu', 'une', 'coupure', 'de', 'réseau', 'à', 'Marseille', '.', 'Des', 'milliers', 'de', 'marseillais', 'ont', 'été', 'privés', \"d'Internet\", '.']\n"
          ]
        }
      ],
      "source": [
        "#Tockenisation de mots\n",
        "#On importe la fonction de tokenisation en mots de NLTK\n",
        "from nltk.tokenize import word_tokenize\n",
        "\n",
        "# On applique la fonction de tokenization à la phrase et on affiche le résultat\n",
        "words = word_tokenize(text, language = 'french')\n",
        "print(words)"
      ]
    },
    {
      "cell_type": "code",
      "execution_count": 33,
      "metadata": {
        "id": "MWp7faZ7YU7v"
      },
      "outputs": [],
      "source": [
        "texte = \"À partir des années 1950, la commune surnommée « ville des administrations » connaît un essor économique, urbain et démographique lié notamment à l'exode rural et à une industrialisation nouvelle (usine automobile de PSA La Janais).\""
      ]
    },
    {
      "cell_type": "code",
      "execution_count": 34,
      "metadata": {
        "id": "g1wzkbhYYU7v"
      },
      "outputs": [],
      "source": [
        "tokens = word_tokenize(texte)"
      ]
    },
    {
      "cell_type": "code",
      "execution_count": 35,
      "metadata": {
        "colab": {
          "base_uri": "https://localhost:8080/"
        },
        "id": "ahOl3z38YU7w",
        "outputId": "41acd95f-8736-45b7-ded9-7cf3954a5fa7"
      },
      "outputs": [
        {
          "output_type": "execute_result",
          "data": {
            "text/plain": [
              "['À',\n",
              " 'partir',\n",
              " 'des',\n",
              " 'années',\n",
              " '1950',\n",
              " ',',\n",
              " 'la',\n",
              " 'commune',\n",
              " 'surnommée',\n",
              " '«',\n",
              " 'ville',\n",
              " 'des',\n",
              " 'administrations',\n",
              " '»',\n",
              " 'connaît',\n",
              " 'un',\n",
              " 'essor',\n",
              " 'économique',\n",
              " ',',\n",
              " 'urbain',\n",
              " 'et',\n",
              " 'démographique',\n",
              " 'lié',\n",
              " 'notamment',\n",
              " 'à',\n",
              " \"l'exode\",\n",
              " 'rural',\n",
              " 'et',\n",
              " 'à',\n",
              " 'une',\n",
              " 'industrialisation',\n",
              " 'nouvelle',\n",
              " '(',\n",
              " 'usine',\n",
              " 'automobile',\n",
              " 'de',\n",
              " 'PSA',\n",
              " 'La',\n",
              " 'Janais',\n",
              " ')',\n",
              " '.']"
            ]
          },
          "metadata": {},
          "execution_count": 35
        }
      ],
      "source": [
        "tokens"
      ]
    },
    {
      "cell_type": "code",
      "execution_count": 36,
      "metadata": {
        "id": "5lAGs64rYU7w"
      },
      "outputs": [],
      "source": [
        "#Tockenisation avec élimination des mots vides\n",
        "from nltk.corpus import stopwords\n",
        "st = set(stopwords.words('french'))\n",
        "tokens = [tok for tok in word_tokenize(texte) if tok not in set(st)]"
      ]
    },
    {
      "cell_type": "code",
      "execution_count": 37,
      "metadata": {
        "colab": {
          "base_uri": "https://localhost:8080/"
        },
        "id": "WUr4REJVYU7x",
        "outputId": "0a916d35-3df2-4c62-ec85-97c4b410a846"
      },
      "outputs": [
        {
          "output_type": "execute_result",
          "data": {
            "text/plain": [
              "['À',\n",
              " 'partir',\n",
              " 'années',\n",
              " '1950',\n",
              " ',',\n",
              " 'commune',\n",
              " 'surnommée',\n",
              " '«',\n",
              " 'ville',\n",
              " 'administrations',\n",
              " '»',\n",
              " 'connaît',\n",
              " 'essor',\n",
              " 'économique',\n",
              " ',',\n",
              " 'urbain',\n",
              " 'démographique',\n",
              " 'lié',\n",
              " 'notamment',\n",
              " \"l'exode\",\n",
              " 'rural',\n",
              " 'industrialisation',\n",
              " 'nouvelle',\n",
              " '(',\n",
              " 'usine',\n",
              " 'automobile',\n",
              " 'PSA',\n",
              " 'La',\n",
              " 'Janais',\n",
              " ')',\n",
              " '.']"
            ]
          },
          "metadata": {},
          "execution_count": 37
        }
      ],
      "source": [
        "tokens"
      ]
    },
    {
      "cell_type": "markdown",
      "metadata": {
        "id": "UhJcwvceYU7x"
      },
      "source": [
        "### Racinisation et lemmatisation"
      ]
    },
    {
      "cell_type": "code",
      "execution_count": 38,
      "metadata": {
        "id": "aA0XGtEfYU7y"
      },
      "outputs": [],
      "source": [
        "# Racinisation\n",
        "stemmer = PorterStemmer()"
      ]
    },
    {
      "cell_type": "code",
      "execution_count": 39,
      "metadata": {
        "colab": {
          "base_uri": "https://localhost:8080/",
          "height": 0
        },
        "id": "0u_6r4kMYU7y",
        "outputId": "2e04387f-c4dd-494a-fd12-0b5e1de4f49c"
      },
      "outputs": [
        {
          "output_type": "execute_result",
          "data": {
            "text/plain": [
              "'organis'"
            ],
            "application/vnd.google.colaboratory.intrinsic+json": {
              "type": "string"
            }
          },
          "metadata": {},
          "execution_count": 39
        }
      ],
      "source": [
        "stemmer.stem(\"organisational\")"
      ]
    },
    {
      "cell_type": "code",
      "execution_count": 40,
      "metadata": {
        "scrolled": true,
        "colab": {
          "base_uri": "https://localhost:8080/",
          "height": 0
        },
        "id": "HhZh8LVIYU7z",
        "outputId": "be0c6625-1dc7-4c7e-ff8b-1ef52f5bc5e2"
      },
      "outputs": [
        {
          "output_type": "execute_result",
          "data": {
            "text/plain": [
              "'organis'"
            ],
            "application/vnd.google.colaboratory.intrinsic+json": {
              "type": "string"
            }
          },
          "metadata": {},
          "execution_count": 40
        }
      ],
      "source": [
        "stemmer.stem(\"organisation\")"
      ]
    },
    {
      "cell_type": "code",
      "execution_count": 41,
      "metadata": {
        "colab": {
          "base_uri": "https://localhost:8080/",
          "height": 0
        },
        "id": "bdxsq9DzYU7z",
        "outputId": "1fed2fe0-6a1c-4561-8e7d-e58d7dc4d1e7"
      },
      "outputs": [
        {
          "output_type": "execute_result",
          "data": {
            "text/plain": [
              "'organis'"
            ],
            "application/vnd.google.colaboratory.intrinsic+json": {
              "type": "string"
            }
          },
          "metadata": {},
          "execution_count": 41
        }
      ],
      "source": [
        "stemmer.stem(\"organiser\")"
      ]
    },
    {
      "cell_type": "code",
      "execution_count": 42,
      "metadata": {
        "id": "l2-FOMtNYU70"
      },
      "outputs": [],
      "source": [
        "text = \"The organisers of the organisation have organised a party.\""
      ]
    },
    {
      "cell_type": "code",
      "execution_count": 43,
      "metadata": {
        "colab": {
          "base_uri": "https://localhost:8080/",
          "height": 0
        },
        "id": "v5UGCijwYU70",
        "outputId": "4dbf11f6-9ee7-4f57-ddb9-5812bdb5ff63"
      },
      "outputs": [
        {
          "output_type": "execute_result",
          "data": {
            "text/plain": [
              "'the organis of the organis have organis a party.'"
            ],
            "application/vnd.google.colaboratory.intrinsic+json": {
              "type": "string"
            }
          },
          "metadata": {},
          "execution_count": 43
        }
      ],
      "source": [
        "' '.join(stemmer.stem(mot) for mot in text.split())"
      ]
    },
    {
      "cell_type": "code",
      "execution_count": 44,
      "metadata": {
        "colab": {
          "base_uri": "https://localhost:8080/",
          "height": 0
        },
        "id": "Z--hpKZLYU70",
        "outputId": "ccd4d55b-529f-4678-dc4a-e26fd9d2ea91"
      },
      "outputs": [
        {
          "output_type": "execute_result",
          "data": {
            "text/plain": [
              "\"Son caractère excentré vis-à-vis de sa région lui donne néanmoins un atout non négligeable qu'est le fait d'avoir une position centrale dans le Grand Ouest français, c'est ainsi que Rennes se situe à une distance plus ou moins égale des grands ports maritimes de l'Ouest que sont Le Havre (204 km) et La Rochelle (220 km) ainsi que le port maritime et militaire de Brest (210 km), la ville se situe aussi à 120 km du grand port maritime de Nantes-Saint-Nazaire.\""
            ],
            "application/vnd.google.colaboratory.intrinsic+json": {
              "type": "string"
            }
          },
          "metadata": {},
          "execution_count": 44
        }
      ],
      "source": [
        "texte = \"Son caractère excentré vis-à-vis de sa région lui donne néanmoins un atout non négligeable qu'est le fait d'avoir une position centrale dans le Grand Ouest français, c'est ainsi que Rennes se situe à une distance plus ou moins égale des grands ports maritimes de l'Ouest que sont Le Havre (204 km) et La Rochelle (220 km) ainsi que le port maritime et militaire de Brest (210 km), la ville se situe aussi à 120 km du grand port maritime de Nantes-Saint-Nazaire.\"\n",
        "texte"
      ]
    },
    {
      "cell_type": "code",
      "execution_count": 45,
      "metadata": {
        "id": "WwKuAHVFYU71"
      },
      "outputs": [],
      "source": [
        "stemmer_fr = FrenchStemmer()"
      ]
    },
    {
      "cell_type": "code",
      "execution_count": 46,
      "metadata": {
        "colab": {
          "base_uri": "https://localhost:8080/",
          "height": 0
        },
        "id": "pEFrufq4YU72",
        "outputId": "f691ce09-b9da-4924-c3a8-b9fdb4bd9e1f"
      },
      "outputs": [
        {
          "output_type": "execute_result",
          "data": {
            "text/plain": [
              "\"son caracter excentr vis-à-v de sa région lui don néanmoin un atout non néglige qu'est le fait d'avoir une posit central dan le grand ouest français, c'est ains que ren se situ à une distanc plus ou moin égal de grand port maritim de l'ouest que sont le havr (204 km) et la rochel (220 km) ains que le port maritim et militair de brest (210 km), la vill se situ auss à 120 km du grand port maritim de nantes-saint-nazaire.\""
            ],
            "application/vnd.google.colaboratory.intrinsic+json": {
              "type": "string"
            }
          },
          "metadata": {},
          "execution_count": 46
        }
      ],
      "source": [
        "' '.join(stemmer_fr.stem(mot) for mot in texte.split())"
      ]
    },
    {
      "cell_type": "code",
      "execution_count": 47,
      "metadata": {
        "id": "VW0PM5y5YU72"
      },
      "outputs": [],
      "source": [
        "#Lemmatisation\n",
        "wnl = WordNetLemmatizer()"
      ]
    },
    {
      "cell_type": "code",
      "execution_count": 48,
      "metadata": {
        "colab": {
          "base_uri": "https://localhost:8080/",
          "height": 0
        },
        "id": "6LJAYrsGYU73",
        "outputId": "3767ad68-1b67-456f-9111-3a260a32947e"
      },
      "outputs": [
        {
          "output_type": "stream",
          "name": "stderr",
          "text": [
            "[nltk_data] Downloading package omw-1.4 to /root/nltk_data...\n"
          ]
        },
        {
          "output_type": "execute_result",
          "data": {
            "text/plain": [
              "'organisation'"
            ],
            "application/vnd.google.colaboratory.intrinsic+json": {
              "type": "string"
            }
          },
          "metadata": {},
          "execution_count": 48
        }
      ],
      "source": [
        "import nltk\n",
        "nltk.download('omw-1.4')\n",
        "wnl.lemmatize(\"organisations\")"
      ]
    },
    {
      "cell_type": "code",
      "execution_count": 49,
      "metadata": {
        "colab": {
          "base_uri": "https://localhost:8080/",
          "height": 0
        },
        "id": "T8Py64tqYU73",
        "outputId": "0534eb20-efb7-46f7-9203-f8b3c272c3b5"
      },
      "outputs": [
        {
          "output_type": "execute_result",
          "data": {
            "text/plain": [
              "'organis'"
            ],
            "application/vnd.google.colaboratory.intrinsic+json": {
              "type": "string"
            }
          },
          "metadata": {},
          "execution_count": 49
        }
      ],
      "source": [
        "stemmer.stem('organisations')"
      ]
    },
    {
      "cell_type": "code",
      "execution_count": 50,
      "metadata": {
        "colab": {
          "base_uri": "https://localhost:8080/",
          "height": 0
        },
        "id": "QjZ7XBHqYU74",
        "outputId": "a042a5dd-1d2b-44c4-ffed-cadd3c8ed0b0"
      },
      "outputs": [
        {
          "output_type": "execute_result",
          "data": {
            "text/plain": [
              "'organiser'"
            ],
            "application/vnd.google.colaboratory.intrinsic+json": {
              "type": "string"
            }
          },
          "metadata": {},
          "execution_count": 50
        }
      ],
      "source": [
        "wnl.lemmatize(\"organiser\")"
      ]
    },
    {
      "cell_type": "code",
      "execution_count": 51,
      "metadata": {
        "colab": {
          "base_uri": "https://localhost:8080/",
          "height": 0
        },
        "id": "CgI0gQnRYU74",
        "outputId": "7dfc8b25-eadb-4eb3-964d-2c95d722a8f0"
      },
      "outputs": [
        {
          "output_type": "execute_result",
          "data": {
            "text/plain": [
              "'organis'"
            ],
            "application/vnd.google.colaboratory.intrinsic+json": {
              "type": "string"
            }
          },
          "metadata": {},
          "execution_count": 51
        }
      ],
      "source": [
        "stemmer.stem(\"organiser\")"
      ]
    },
    {
      "cell_type": "markdown",
      "metadata": {
        "id": "T15OkK4ZYU74"
      },
      "source": [
        "### Découpage en NGrams\n",
        "NLTK permet de générer des n-grammes à partir d’une liste de tokens."
      ]
    },
    {
      "cell_type": "code",
      "execution_count": 52,
      "metadata": {
        "colab": {
          "base_uri": "https://localhost:8080/"
        },
        "id": "s3f6scLlYU75",
        "outputId": "7fe040f3-4cda-4bb8-f789-658a0bbef5cb"
      },
      "outputs": [
        {
          "output_type": "stream",
          "name": "stdout",
          "text": [
            "[('Bouygues', 'a'), ('a', 'eu'), ('eu', 'une'), ('une', 'coupure'), ('coupure', 'de'), ('de', 'réseau'), ('réseau', 'à'), ('à', 'Marseille'), ('Marseille', '.'), ('.', 'Des'), ('Des', 'milliers'), ('milliers', 'de'), ('de', 'marseillais'), ('marseillais', 'ont'), ('ont', 'été'), ('été', 'privés'), ('privés', \"d'Internet\"), (\"d'Internet\", '.')]\n",
            "[('Bouygues', 'a', 'eu'), ('a', 'eu', 'une'), ('eu', 'une', 'coupure'), ('une', 'coupure', 'de'), ('coupure', 'de', 'réseau'), ('de', 'réseau', 'à'), ('réseau', 'à', 'Marseille'), ('à', 'Marseille', '.'), ('Marseille', '.', 'Des'), ('.', 'Des', 'milliers'), ('Des', 'milliers', 'de'), ('milliers', 'de', 'marseillais'), ('de', 'marseillais', 'ont'), ('marseillais', 'ont', 'été'), ('ont', 'été', 'privés'), ('été', 'privés', \"d'Internet\"), ('privés', \"d'Internet\", '.')]\n"
          ]
        }
      ],
      "source": [
        "# On importe les fonctions de tokenisation en mots et de génération des n-grammes de NLTK\n",
        "from nltk.tokenize import word_tokenize\n",
        "from nltk.util import ngrams\n",
        "\n",
        "# On génère des bi-grammes et des tri-grammes à partir de notre phrase tokenisée\n",
        "bigrams=ngrams(words,2)\n",
        "trigrams=ngrams(words,3)\n",
        "\n",
        "# On affiche le résultat\n",
        "print(list(bigrams))\n",
        "print(list(trigrams))"
      ]
    },
    {
      "cell_type": "markdown",
      "metadata": {
        "id": "HS3-JZSCYU75"
      },
      "source": [
        "### Etiquetage Morpho-syntaxique\n",
        "Fonctionne pour l'anglais. Seul SpaCy propose d’autres langues que l’anglais (français, espagnol et allemand).Pour ce qui est du tagging pour la langue anglaise, les deux librairies s’appuie sur la Penn Treebank (en)."
      ]
    },
    {
      "cell_type": "code",
      "execution_count": 53,
      "metadata": {
        "colab": {
          "base_uri": "https://localhost:8080/"
        },
        "id": "IcB16fTaYU75",
        "outputId": "1f0c3dca-898d-4bbe-acb3-50ef9b718145"
      },
      "outputs": [
        {
          "output_type": "stream",
          "name": "stderr",
          "text": [
            "[nltk_data] Downloading package averaged_perceptron_tagger to\n",
            "[nltk_data]     /root/nltk_data...\n",
            "[nltk_data]   Unzipping taggers/averaged_perceptron_tagger.zip.\n"
          ]
        },
        {
          "output_type": "stream",
          "name": "stdout",
          "text": [
            "[('I', 'PRP'), ('go', 'VBP'), ('to', 'TO'), ('the', 'DT'), ('park', 'NN'), ('with', 'IN'), ('my', 'PRP$'), ('dog', 'NN')]\n"
          ]
        }
      ],
      "source": [
        "# On importe les fonctions de tokenisation de mots et de POS-Tagging de NLTK\n",
        "from nltk.tokenize import word_tokenize\n",
        "from nltk.tag import pos_tag\n",
        "nltk.download('averaged_perceptron_tagger')\n",
        "\n",
        "# On crée une phrase en anglais\n",
        "text_en = \"I go to the park with my dog\"\n",
        "\n",
        "# On tokenise la phrase\n",
        "tokens_en = word_tokenize(text_en)\n",
        "\n",
        "# On tague les tokens\n",
        "tags_en = pos_tag(tokens_en)\n",
        "\n",
        "# On affiche le résultat\n",
        "print (tags_en)"
      ]
    },
    {
      "cell_type": "markdown",
      "metadata": {
        "id": "XSKQsKO0YU76"
      },
      "source": [
        "### Reconnaissance d'entités nommées\n",
        "Fonctionne uniquement pour la langue anglaise"
      ]
    },
    {
      "cell_type": "code",
      "execution_count": 54,
      "metadata": {
        "colab": {
          "base_uri": "https://localhost:8080/"
        },
        "id": "9UModMOdYU76",
        "outputId": "55bc2c0d-280e-4fc8-d6e3-0829b3497a09"
      },
      "outputs": [
        {
          "output_type": "stream",
          "name": "stderr",
          "text": [
            "[nltk_data] Downloading package maxent_ne_chunker to\n",
            "[nltk_data]     /root/nltk_data...\n",
            "[nltk_data]   Unzipping chunkers/maxent_ne_chunker.zip.\n",
            "[nltk_data] Downloading package words to /root/nltk_data...\n",
            "[nltk_data]   Unzipping corpora/words.zip.\n"
          ]
        },
        {
          "output_type": "stream",
          "name": "stdout",
          "text": [
            "(S\n",
            "  (PERSON Mark/NNP)\n",
            "  (PERSON Elliot/NNP Zuckerberg/NNP)\n",
            "  (/(\n",
            "  born/VBN\n",
            "  May/NNP\n",
            "  14/CD\n",
            "  ,/,\n",
            "  1984/CD\n",
            "  )/)\n",
            "  is/VBZ\n",
            "  a/DT\n",
            "  co-founder/NN\n",
            "  of/IN\n",
            "  (GPE Facebook/NNP)\n",
            "  ./.)\n"
          ]
        }
      ],
      "source": [
        "# On importe les fonctions de tokenisation de mots, de POS-Tagging et de reconnaissance d'entités de NLTK\n",
        "from nltk.tokenize import word_tokenize\n",
        "from nltk.tag import pos_tag\n",
        "from nltk.chunk import ne_chunk\n",
        "nltk.download('maxent_ne_chunker')\n",
        "nltk.download('words')\n",
        "# On crée une phrase en anglais\n",
        "text_en = \"Mark Elliot Zuckerberg (born May 14, 1984) is a co-founder of Facebook.\"\n",
        "\n",
        "# On tokenise la phrase\n",
        "tokens_en = word_tokenize(text_en)\n",
        "\n",
        "# On tague les tokens\n",
        "tags_en = pos_tag(tokens_en)\n",
        "\n",
        "# On applique la fonction de reconnaissance d’entités\n",
        "ner_en = ne_chunk(tags_en)\n",
        "\n",
        "# On affiche le résultat\n",
        "print (ner_en)"
      ]
    },
    {
      "cell_type": "markdown",
      "metadata": {
        "id": "70qPyWwHYU76"
      },
      "source": [
        "### Utilisation d'une ressource sémantique (Wordnet)"
      ]
    },
    {
      "cell_type": "code",
      "execution_count": 55,
      "metadata": {
        "colab": {
          "base_uri": "https://localhost:8080/"
        },
        "id": "VRV26envYU77",
        "outputId": "89216a03-b5c8-47dd-f5c1-7653aa834458"
      },
      "outputs": [
        {
          "output_type": "execute_result",
          "data": {
            "text/plain": [
              "[Synset('car.n.01'),\n",
              " Synset('car.n.02'),\n",
              " Synset('car.n.03'),\n",
              " Synset('car.n.04'),\n",
              " Synset('cable_car.n.01')]"
            ]
          },
          "metadata": {},
          "execution_count": 55
        }
      ],
      "source": [
        "# Affichage des différents sens du mot car\n",
        "from nltk.corpus import wordnet as wn \n",
        "wn.synsets('car')"
      ]
    },
    {
      "cell_type": "code",
      "execution_count": 56,
      "metadata": {
        "colab": {
          "base_uri": "https://localhost:8080/"
        },
        "id": "ZJJkDCRkYU77",
        "outputId": "6a93ff36-f346-408e-b9d8-469cdb96c72c"
      },
      "outputs": [
        {
          "output_type": "stream",
          "name": "stdout",
          "text": [
            "a motor vehicle with four wheels; usually propelled by an internal combustion engine\n"
          ]
        }
      ],
      "source": [
        "# Afficha de la définition du sens 1\n",
        "print(wn.synset('car.n.01').definition())"
      ]
    },
    {
      "cell_type": "code",
      "execution_count": 57,
      "metadata": {
        "colab": {
          "base_uri": "https://localhost:8080/"
        },
        "id": "xU8BvGaKYU77",
        "outputId": "8adcef12-03f9-4ef0-e281-94d1c42777a7"
      },
      "outputs": [
        {
          "output_type": "execute_result",
          "data": {
            "text/plain": [
              "['car', 'auto', 'automobile', 'machine', 'motorcar']"
            ]
          },
          "metadata": {},
          "execution_count": 57
        }
      ],
      "source": [
        "# Affichage des synonymes (lemmes) associés au sens 1 du mot \"car\"\n",
        "wn.synset(\"car.n.01\").lemma_names()"
      ]
    },
    {
      "cell_type": "code",
      "execution_count": 58,
      "metadata": {
        "colab": {
          "base_uri": "https://localhost:8080/"
        },
        "id": "ZxG-XomDYU77",
        "outputId": "b8131178-c211-4abc-97e2-3fe450ed90fb"
      },
      "outputs": [
        {
          "output_type": "execute_result",
          "data": {
            "text/plain": [
              "[Synset('motor_vehicle.n.01')]"
            ]
          },
          "metadata": {},
          "execution_count": 58
        }
      ],
      "source": [
        "# Affichage de l'hyperonyme\n",
        "car = wn.synset('car.n.01')\n",
        "car.hypernyms()"
      ]
    },
    {
      "cell_type": "markdown",
      "metadata": {
        "id": "dVssbb_-YU78"
      },
      "source": [
        "# C)  Spacy"
      ]
    },
    {
      "cell_type": "markdown",
      "metadata": {
        "id": "FPUf4hpCYU78"
      },
      "source": [
        "### Import de Spacy "
      ]
    },
    {
      "cell_type": "code",
      "execution_count": 59,
      "metadata": {
        "colab": {
          "base_uri": "https://localhost:8080/"
        },
        "id": "UHTz4rZFYU78",
        "outputId": "3643e192-5be8-4672-dd03-bb3daaf7736a"
      },
      "outputs": [
        {
          "output_type": "stream",
          "name": "stdout",
          "text": [
            "Looking in indexes: https://pypi.org/simple, https://us-python.pkg.dev/colab-wheels/public/simple/\n",
            "Requirement already satisfied: spacy in /usr/local/lib/python3.7/dist-packages (3.4.1)\n",
            "Requirement already satisfied: spacy-loggers<2.0.0,>=1.0.0 in /usr/local/lib/python3.7/dist-packages (from spacy) (1.0.3)\n",
            "Requirement already satisfied: murmurhash<1.1.0,>=0.28.0 in /usr/local/lib/python3.7/dist-packages (from spacy) (1.0.8)\n",
            "Requirement already satisfied: spacy-legacy<3.1.0,>=3.0.9 in /usr/local/lib/python3.7/dist-packages (from spacy) (3.0.10)\n",
            "Requirement already satisfied: wasabi<1.1.0,>=0.9.1 in /usr/local/lib/python3.7/dist-packages (from spacy) (0.10.1)\n",
            "Requirement already satisfied: packaging>=20.0 in /usr/local/lib/python3.7/dist-packages (from spacy) (21.3)\n",
            "Requirement already satisfied: catalogue<2.1.0,>=2.0.6 in /usr/local/lib/python3.7/dist-packages (from spacy) (2.0.8)\n",
            "Requirement already satisfied: pydantic!=1.8,!=1.8.1,<1.10.0,>=1.7.4 in /usr/local/lib/python3.7/dist-packages (from spacy) (1.9.2)\n",
            "Requirement already satisfied: pathy>=0.3.5 in /usr/local/lib/python3.7/dist-packages (from spacy) (0.6.2)\n",
            "Requirement already satisfied: cymem<2.1.0,>=2.0.2 in /usr/local/lib/python3.7/dist-packages (from spacy) (2.0.6)\n",
            "Requirement already satisfied: preshed<3.1.0,>=3.0.2 in /usr/local/lib/python3.7/dist-packages (from spacy) (3.0.7)\n",
            "Requirement already satisfied: tqdm<5.0.0,>=4.38.0 in /usr/local/lib/python3.7/dist-packages (from spacy) (4.64.1)\n",
            "Requirement already satisfied: requests<3.0.0,>=2.13.0 in /usr/local/lib/python3.7/dist-packages (from spacy) (2.23.0)\n",
            "Requirement already satisfied: typer<0.5.0,>=0.3.0 in /usr/local/lib/python3.7/dist-packages (from spacy) (0.4.2)\n",
            "Requirement already satisfied: thinc<8.2.0,>=8.1.0 in /usr/local/lib/python3.7/dist-packages (from spacy) (8.1.2)\n",
            "Requirement already satisfied: numpy>=1.15.0 in /usr/local/lib/python3.7/dist-packages (from spacy) (1.21.6)\n",
            "Requirement already satisfied: typing-extensions<4.2.0,>=3.7.4 in /usr/local/lib/python3.7/dist-packages (from spacy) (4.1.1)\n",
            "Requirement already satisfied: jinja2 in /usr/local/lib/python3.7/dist-packages (from spacy) (2.11.3)\n",
            "Requirement already satisfied: srsly<3.0.0,>=2.4.3 in /usr/local/lib/python3.7/dist-packages (from spacy) (2.4.4)\n",
            "Requirement already satisfied: setuptools in /usr/local/lib/python3.7/dist-packages (from spacy) (57.4.0)\n",
            "Requirement already satisfied: langcodes<4.0.0,>=3.2.0 in /usr/local/lib/python3.7/dist-packages (from spacy) (3.3.0)\n",
            "Requirement already satisfied: zipp>=0.5 in /usr/local/lib/python3.7/dist-packages (from catalogue<2.1.0,>=2.0.6->spacy) (3.8.1)\n",
            "Requirement already satisfied: pyparsing!=3.0.5,>=2.0.2 in /usr/local/lib/python3.7/dist-packages (from packaging>=20.0->spacy) (3.0.9)\n",
            "Requirement already satisfied: smart-open<6.0.0,>=5.2.1 in /usr/local/lib/python3.7/dist-packages (from pathy>=0.3.5->spacy) (5.2.1)\n",
            "Requirement already satisfied: chardet<4,>=3.0.2 in /usr/local/lib/python3.7/dist-packages (from requests<3.0.0,>=2.13.0->spacy) (3.0.4)\n",
            "Requirement already satisfied: urllib3!=1.25.0,!=1.25.1,<1.26,>=1.21.1 in /usr/local/lib/python3.7/dist-packages (from requests<3.0.0,>=2.13.0->spacy) (1.24.3)\n",
            "Requirement already satisfied: certifi>=2017.4.17 in /usr/local/lib/python3.7/dist-packages (from requests<3.0.0,>=2.13.0->spacy) (2022.9.24)\n",
            "Requirement already satisfied: idna<3,>=2.5 in /usr/local/lib/python3.7/dist-packages (from requests<3.0.0,>=2.13.0->spacy) (2.10)\n",
            "Requirement already satisfied: blis<0.8.0,>=0.7.8 in /usr/local/lib/python3.7/dist-packages (from thinc<8.2.0,>=8.1.0->spacy) (0.7.8)\n",
            "Requirement already satisfied: confection<1.0.0,>=0.0.1 in /usr/local/lib/python3.7/dist-packages (from thinc<8.2.0,>=8.1.0->spacy) (0.0.2)\n",
            "Requirement already satisfied: click<9.0.0,>=7.1.1 in /usr/local/lib/python3.7/dist-packages (from typer<0.5.0,>=0.3.0->spacy) (7.1.2)\n",
            "Requirement already satisfied: MarkupSafe>=0.23 in /usr/local/lib/python3.7/dist-packages (from jinja2->spacy) (2.0.1)\n",
            "2022-10-11 14:10:39.810465: E tensorflow/stream_executor/cuda/cuda_driver.cc:271] failed call to cuInit: CUDA_ERROR_NO_DEVICE: no CUDA-capable device is detected\n",
            "Looking in indexes: https://pypi.org/simple, https://us-python.pkg.dev/colab-wheels/public/simple/\n",
            "Collecting en-core-web-sm==3.4.0\n",
            "  Downloading https://github.com/explosion/spacy-models/releases/download/en_core_web_sm-3.4.0/en_core_web_sm-3.4.0-py3-none-any.whl (12.8 MB)\n",
            "\u001b[K     |████████████████████████████████| 12.8 MB 7.4 MB/s \n",
            "\u001b[?25hRequirement already satisfied: spacy<3.5.0,>=3.4.0 in /usr/local/lib/python3.7/dist-packages (from en-core-web-sm==3.4.0) (3.4.1)\n",
            "Requirement already satisfied: packaging>=20.0 in /usr/local/lib/python3.7/dist-packages (from spacy<3.5.0,>=3.4.0->en-core-web-sm==3.4.0) (21.3)\n",
            "Requirement already satisfied: spacy-legacy<3.1.0,>=3.0.9 in /usr/local/lib/python3.7/dist-packages (from spacy<3.5.0,>=3.4.0->en-core-web-sm==3.4.0) (3.0.10)\n",
            "Requirement already satisfied: typer<0.5.0,>=0.3.0 in /usr/local/lib/python3.7/dist-packages (from spacy<3.5.0,>=3.4.0->en-core-web-sm==3.4.0) (0.4.2)\n",
            "Requirement already satisfied: tqdm<5.0.0,>=4.38.0 in /usr/local/lib/python3.7/dist-packages (from spacy<3.5.0,>=3.4.0->en-core-web-sm==3.4.0) (4.64.1)\n",
            "Requirement already satisfied: pydantic!=1.8,!=1.8.1,<1.10.0,>=1.7.4 in /usr/local/lib/python3.7/dist-packages (from spacy<3.5.0,>=3.4.0->en-core-web-sm==3.4.0) (1.9.2)\n",
            "Requirement already satisfied: jinja2 in /usr/local/lib/python3.7/dist-packages (from spacy<3.5.0,>=3.4.0->en-core-web-sm==3.4.0) (2.11.3)\n",
            "Requirement already satisfied: typing-extensions<4.2.0,>=3.7.4 in /usr/local/lib/python3.7/dist-packages (from spacy<3.5.0,>=3.4.0->en-core-web-sm==3.4.0) (4.1.1)\n",
            "Requirement already satisfied: spacy-loggers<2.0.0,>=1.0.0 in /usr/local/lib/python3.7/dist-packages (from spacy<3.5.0,>=3.4.0->en-core-web-sm==3.4.0) (1.0.3)\n",
            "Requirement already satisfied: catalogue<2.1.0,>=2.0.6 in /usr/local/lib/python3.7/dist-packages (from spacy<3.5.0,>=3.4.0->en-core-web-sm==3.4.0) (2.0.8)\n",
            "Requirement already satisfied: thinc<8.2.0,>=8.1.0 in /usr/local/lib/python3.7/dist-packages (from spacy<3.5.0,>=3.4.0->en-core-web-sm==3.4.0) (8.1.2)\n",
            "Requirement already satisfied: preshed<3.1.0,>=3.0.2 in /usr/local/lib/python3.7/dist-packages (from spacy<3.5.0,>=3.4.0->en-core-web-sm==3.4.0) (3.0.7)\n",
            "Requirement already satisfied: numpy>=1.15.0 in /usr/local/lib/python3.7/dist-packages (from spacy<3.5.0,>=3.4.0->en-core-web-sm==3.4.0) (1.21.6)\n",
            "Requirement already satisfied: murmurhash<1.1.0,>=0.28.0 in /usr/local/lib/python3.7/dist-packages (from spacy<3.5.0,>=3.4.0->en-core-web-sm==3.4.0) (1.0.8)\n",
            "Requirement already satisfied: requests<3.0.0,>=2.13.0 in /usr/local/lib/python3.7/dist-packages (from spacy<3.5.0,>=3.4.0->en-core-web-sm==3.4.0) (2.23.0)\n",
            "Requirement already satisfied: pathy>=0.3.5 in /usr/local/lib/python3.7/dist-packages (from spacy<3.5.0,>=3.4.0->en-core-web-sm==3.4.0) (0.6.2)\n",
            "Requirement already satisfied: setuptools in /usr/local/lib/python3.7/dist-packages (from spacy<3.5.0,>=3.4.0->en-core-web-sm==3.4.0) (57.4.0)\n",
            "Requirement already satisfied: wasabi<1.1.0,>=0.9.1 in /usr/local/lib/python3.7/dist-packages (from spacy<3.5.0,>=3.4.0->en-core-web-sm==3.4.0) (0.10.1)\n",
            "Requirement already satisfied: langcodes<4.0.0,>=3.2.0 in /usr/local/lib/python3.7/dist-packages (from spacy<3.5.0,>=3.4.0->en-core-web-sm==3.4.0) (3.3.0)\n",
            "Requirement already satisfied: srsly<3.0.0,>=2.4.3 in /usr/local/lib/python3.7/dist-packages (from spacy<3.5.0,>=3.4.0->en-core-web-sm==3.4.0) (2.4.4)\n",
            "Requirement already satisfied: cymem<2.1.0,>=2.0.2 in /usr/local/lib/python3.7/dist-packages (from spacy<3.5.0,>=3.4.0->en-core-web-sm==3.4.0) (2.0.6)\n",
            "Requirement already satisfied: zipp>=0.5 in /usr/local/lib/python3.7/dist-packages (from catalogue<2.1.0,>=2.0.6->spacy<3.5.0,>=3.4.0->en-core-web-sm==3.4.0) (3.8.1)\n",
            "Requirement already satisfied: pyparsing!=3.0.5,>=2.0.2 in /usr/local/lib/python3.7/dist-packages (from packaging>=20.0->spacy<3.5.0,>=3.4.0->en-core-web-sm==3.4.0) (3.0.9)\n",
            "Requirement already satisfied: smart-open<6.0.0,>=5.2.1 in /usr/local/lib/python3.7/dist-packages (from pathy>=0.3.5->spacy<3.5.0,>=3.4.0->en-core-web-sm==3.4.0) (5.2.1)\n",
            "Requirement already satisfied: certifi>=2017.4.17 in /usr/local/lib/python3.7/dist-packages (from requests<3.0.0,>=2.13.0->spacy<3.5.0,>=3.4.0->en-core-web-sm==3.4.0) (2022.9.24)\n",
            "Requirement already satisfied: urllib3!=1.25.0,!=1.25.1,<1.26,>=1.21.1 in /usr/local/lib/python3.7/dist-packages (from requests<3.0.0,>=2.13.0->spacy<3.5.0,>=3.4.0->en-core-web-sm==3.4.0) (1.24.3)\n",
            "Requirement already satisfied: chardet<4,>=3.0.2 in /usr/local/lib/python3.7/dist-packages (from requests<3.0.0,>=2.13.0->spacy<3.5.0,>=3.4.0->en-core-web-sm==3.4.0) (3.0.4)\n",
            "Requirement already satisfied: idna<3,>=2.5 in /usr/local/lib/python3.7/dist-packages (from requests<3.0.0,>=2.13.0->spacy<3.5.0,>=3.4.0->en-core-web-sm==3.4.0) (2.10)\n",
            "Requirement already satisfied: blis<0.8.0,>=0.7.8 in /usr/local/lib/python3.7/dist-packages (from thinc<8.2.0,>=8.1.0->spacy<3.5.0,>=3.4.0->en-core-web-sm==3.4.0) (0.7.8)\n",
            "Requirement already satisfied: confection<1.0.0,>=0.0.1 in /usr/local/lib/python3.7/dist-packages (from thinc<8.2.0,>=8.1.0->spacy<3.5.0,>=3.4.0->en-core-web-sm==3.4.0) (0.0.2)\n",
            "Requirement already satisfied: click<9.0.0,>=7.1.1 in /usr/local/lib/python3.7/dist-packages (from typer<0.5.0,>=0.3.0->spacy<3.5.0,>=3.4.0->en-core-web-sm==3.4.0) (7.1.2)\n",
            "Requirement already satisfied: MarkupSafe>=0.23 in /usr/local/lib/python3.7/dist-packages (from jinja2->spacy<3.5.0,>=3.4.0->en-core-web-sm==3.4.0) (2.0.1)\n",
            "\u001b[38;5;2m✔ Download and installation successful\u001b[0m\n",
            "You can now load the package via spacy.load('en_core_web_sm')\n"
          ]
        }
      ],
      "source": [
        "# Pour la langue anglaise\n",
        "\n",
        "!pip install -U spacy\n",
        "#! python -m spacy validate\n",
        "\n",
        "import spacy\n",
        "!python -m spacy download en_core_web_sm"
      ]
    },
    {
      "cell_type": "code",
      "execution_count": 60,
      "metadata": {
        "id": "gjcBFZG3YU78"
      },
      "outputs": [],
      "source": [
        "#Pour la langue anglaise\n",
        "nlp = spacy.load('en_core_web_sm')"
      ]
    },
    {
      "cell_type": "markdown",
      "metadata": {
        "id": "kTg6rHI0YU79"
      },
      "source": [
        "Pour utiliser spaCy sur le français ou d'autres langues autres que l'anglais (optionnel pour l'anglais si tâches élémentaires) :\n",
        "1) `!python -m spacy download fr_core_news_sm`\n",
        "\n",
        "2) Menu Exécution > Redémarrer l'environnement d'exécution\n",
        "\n",
        "3) `import spacy`\n",
        "\n",
        "`nlp_fr = spacy.load('fr_core_news_sm')`"
      ]
    },
    {
      "cell_type": "code",
      "execution_count": 61,
      "metadata": {
        "id": "rLsNAuuLYU79"
      },
      "outputs": [],
      "source": [
        "text = \"Orange has been the company's main brand for mobile, landline, internet and IPTV services since 2006. It originated in 1994 when Hutchison Whampoa acquired a controlling stake in Microtel Communications during the early 1990s and rebranded it as \\\"Orange\\\". It became a subsidiary of Mannesmann in 1999 and was acquired by France Télécom in 2000. The company was rebranded as Orange on 1 July 2013.\""
      ]
    },
    {
      "cell_type": "code",
      "execution_count": 62,
      "metadata": {
        "colab": {
          "base_uri": "https://localhost:8080/",
          "height": 0
        },
        "id": "lu_hMxOyYU79",
        "outputId": "0679c0e9-c293-4f27-ce00-19547d606467"
      },
      "outputs": [
        {
          "output_type": "execute_result",
          "data": {
            "text/plain": [
              "'Orange has been the company\\'s main brand for mobile, landline, internet and IPTV services since 2006. It originated in 1994 when Hutchison Whampoa acquired a controlling stake in Microtel Communications during the early 1990s and rebranded it as \"Orange\". It became a subsidiary of Mannesmann in 1999 and was acquired by France Télécom in 2000. The company was rebranded as Orange on 1 July 2013.'"
            ],
            "application/vnd.google.colaboratory.intrinsic+json": {
              "type": "string"
            }
          },
          "metadata": {},
          "execution_count": 62
        }
      ],
      "source": [
        "text"
      ]
    },
    {
      "cell_type": "code",
      "execution_count": 63,
      "metadata": {
        "id": "04KGHbwMYU79"
      },
      "outputs": [],
      "source": [
        "doc = nlp(text)"
      ]
    },
    {
      "cell_type": "code",
      "execution_count": 64,
      "metadata": {
        "colab": {
          "base_uri": "https://localhost:8080/"
        },
        "id": "wwKNFhmaYU7-",
        "outputId": "310ca28d-01d5-4d63-da15-9803cc34349d"
      },
      "outputs": [
        {
          "output_type": "execute_result",
          "data": {
            "text/plain": [
              "Orange has been the company's main brand for mobile, landline, internet and IPTV services since 2006. It originated in 1994 when Hutchison Whampoa acquired a controlling stake in Microtel Communications during the early 1990s and rebranded it as \"Orange\". It became a subsidiary of Mannesmann in 1999 and was acquired by France Télécom in 2000. The company was rebranded as Orange on 1 July 2013."
            ]
          },
          "metadata": {},
          "execution_count": 64
        }
      ],
      "source": [
        "doc"
      ]
    },
    {
      "cell_type": "markdown",
      "metadata": {
        "id": "Vs8ZMTXVYU7-"
      },
      "source": [
        "## Tockenisation"
      ]
    },
    {
      "cell_type": "code",
      "execution_count": 65,
      "metadata": {
        "colab": {
          "base_uri": "https://localhost:8080/"
        },
        "id": "mXPjWzUHYU7-",
        "outputId": "bec5c435-580d-4c9d-c490-7b5a10241a43"
      },
      "outputs": [
        {
          "output_type": "stream",
          "name": "stdout",
          "text": [
            "Orange has been the company's main brand for mobile, landline, internet and IPTV services since 2006.\n",
            "It originated in 1994 when Hutchison Whampoa acquired a controlling stake in Microtel Communications during the early 1990s and rebranded it as \"Orange\".\n",
            "It became a subsidiary of Mannesmann in 1999 and was acquired by France Télécom in 2000.\n",
            "The company was rebranded as Orange on 1 July 2013.\n"
          ]
        }
      ],
      "source": [
        "#Segmentation des phrases\n",
        "for sent in doc.sents:\n",
        "   print(sent)"
      ]
    },
    {
      "cell_type": "code",
      "execution_count": 66,
      "metadata": {
        "colab": {
          "base_uri": "https://localhost:8080/"
        },
        "id": "5gXH6_qbYU7-",
        "outputId": "9585468a-419a-4330-a387-934684678ce1"
      },
      "outputs": [
        {
          "output_type": "stream",
          "name": "stdout",
          "text": [
            "0: Orange has been the company's main brand for mobile, landline, internet and IPTV services since 2006.\n",
            "1: It originated in 1994 when Hutchison Whampoa acquired a controlling stake in Microtel Communications during the early 1990s and rebranded it as \"Orange\".\n",
            "2: It became a subsidiary of Mannesmann in 1999 and was acquired by France Télécom in 2000.\n",
            "3: The company was rebranded as Orange on 1 July 2013.\n"
          ]
        }
      ],
      "source": [
        "for i, sent in enumerate(doc.sents):\n",
        "  print(f\"{i}: {sent}\")"
      ]
    },
    {
      "cell_type": "code",
      "execution_count": 67,
      "metadata": {
        "colab": {
          "base_uri": "https://localhost:8080/"
        },
        "id": "FPQB5DmUYU7_",
        "outputId": "a0b16165-e336-49d4-8ca4-0f66b27f2992"
      },
      "outputs": [
        {
          "output_type": "stream",
          "name": "stdout",
          "text": [
            "Orange\n",
            "has\n",
            "been\n",
            "the\n",
            "company\n",
            "'s\n",
            "main\n",
            "brand\n",
            "for\n",
            "mobile\n",
            ",\n",
            "landline\n",
            ",\n",
            "internet\n",
            "and\n",
            "IPTV\n",
            "services\n",
            "since\n",
            "2006\n",
            ".\n",
            "It\n",
            "originated\n",
            "in\n",
            "1994\n",
            "when\n",
            "Hutchison\n",
            "Whampoa\n",
            "acquired\n",
            "a\n",
            "controlling\n",
            "stake\n",
            "in\n",
            "Microtel\n",
            "Communications\n",
            "during\n",
            "the\n",
            "early\n",
            "1990s\n",
            "and\n",
            "rebranded\n",
            "it\n",
            "as\n",
            "\"\n",
            "Orange\n",
            "\"\n",
            ".\n",
            "It\n",
            "became\n",
            "a\n",
            "subsidiary\n",
            "of\n",
            "Mannesmann\n",
            "in\n",
            "1999\n",
            "and\n",
            "was\n",
            "acquired\n",
            "by\n",
            "France\n",
            "Télécom\n",
            "in\n",
            "2000\n",
            ".\n",
            "The\n",
            "company\n",
            "was\n",
            "rebranded\n",
            "as\n",
            "Orange\n",
            "on\n",
            "1\n",
            "July\n",
            "2013\n",
            ".\n"
          ]
        }
      ],
      "source": [
        "#Tockenisation et identification des mots vides\n",
        "for token in doc:\n",
        "        print(token.text)"
      ]
    },
    {
      "cell_type": "markdown",
      "metadata": {
        "id": "IMyr2VhLYU7_"
      },
      "source": [
        "#Regardons maintenant de plus près ce qu’a fait en plus SpaCy lors de ce découpage. L'objet token est beaucoup plus riche qu'il n'y parait :"
      ]
    },
    {
      "cell_type": "code",
      "execution_count": 68,
      "metadata": {
        "colab": {
          "base_uri": "https://localhost:8080/"
        },
        "id": "IUtHI3ijYU7_",
        "outputId": "eea4418d-94af-45b8-a723-5da411b7ce5d"
      },
      "outputs": [
        {
          "output_type": "stream",
          "name": "stdout",
          "text": [
            "Orange\tOrange\tFalse\tFalse\tPROPN\tNNP\\nsubj\\\n",
            "has\thave\tFalse\tTrue\tAUX\tVBZ\\aux\\\n",
            "been\tbe\tFalse\tTrue\tAUX\tVBN\\ROOT\\\n",
            "the\tthe\tFalse\tTrue\tDET\tDT\\det\\\n",
            "company\tcompany\tFalse\tFalse\tNOUN\tNN\\poss\\\n",
            "'s\t's\tFalse\tTrue\tPART\tPOS\\case\\\n",
            "main\tmain\tFalse\tFalse\tADJ\tJJ\\amod\\\n",
            "brand\tbrand\tFalse\tFalse\tNOUN\tNN\\attr\\\n",
            "for\tfor\tFalse\tTrue\tADP\tIN\\prep\\\n",
            "mobile\tmobile\tFalse\tFalse\tADJ\tJJ\\amod\\\n",
            ",\t,\tTrue\tFalse\tPUNCT\t,\\punct\\\n",
            "landline\tlandline\tFalse\tFalse\tNOUN\tNN\\conj\\\n",
            ",\t,\tTrue\tFalse\tPUNCT\t,\\punct\\\n",
            "internet\tinternet\tFalse\tFalse\tNOUN\tNN\\conj\\\n",
            "and\tand\tFalse\tTrue\tCCONJ\tCC\\cc\\\n",
            "IPTV\tIPTV\tFalse\tFalse\tPROPN\tNNP\\conj\\\n",
            "services\tservice\tFalse\tFalse\tNOUN\tNNS\\pobj\\\n",
            "since\tsince\tFalse\tTrue\tSCONJ\tIN\\prep\\\n",
            "2006\t2006\tFalse\tFalse\tNUM\tCD\\pobj\\DATE\n",
            ".\t.\tTrue\tFalse\tPUNCT\t.\\punct\\\n",
            "It\tit\tFalse\tTrue\tPRON\tPRP\\nsubj\\\n",
            "originated\toriginate\tFalse\tFalse\tVERB\tVBD\\ROOT\\\n",
            "in\tin\tFalse\tTrue\tADP\tIN\\prep\\\n",
            "1994\t1994\tFalse\tFalse\tNUM\tCD\\pobj\\DATE\n",
            "when\twhen\tFalse\tTrue\tSCONJ\tWRB\\advmod\\\n",
            "Hutchison\tHutchison\tFalse\tFalse\tPROPN\tNNP\\compound\\ORG\n",
            "Whampoa\tWhampoa\tFalse\tFalse\tPROPN\tNNP\\nsubj\\ORG\n",
            "acquired\tacquire\tFalse\tFalse\tVERB\tVBD\\advcl\\\n",
            "a\ta\tFalse\tTrue\tDET\tDT\\det\\\n",
            "controlling\tcontrol\tFalse\tFalse\tVERB\tVBG\\amod\\\n",
            "stake\tstake\tFalse\tFalse\tNOUN\tNN\\dobj\\\n",
            "in\tin\tFalse\tTrue\tADP\tIN\\prep\\\n",
            "Microtel\tMicrotel\tFalse\tFalse\tPROPN\tNNP\\compound\\ORG\n",
            "Communications\tCommunications\tFalse\tFalse\tPROPN\tNNP\\pobj\\ORG\n",
            "during\tduring\tFalse\tTrue\tADP\tIN\\prep\\\n",
            "the\tthe\tFalse\tTrue\tDET\tDT\\det\\DATE\n",
            "early\tearly\tFalse\tFalse\tADJ\tJJ\\amod\\DATE\n",
            "1990s\t1990\tFalse\tFalse\tNOUN\tNNS\\pobj\\DATE\n",
            "and\tand\tFalse\tTrue\tCCONJ\tCC\\cc\\\n",
            "rebranded\trebrande\tFalse\tFalse\tVERB\tVBD\\conj\\\n",
            "it\tit\tFalse\tTrue\tPRON\tPRP\\dobj\\\n",
            "as\tas\tFalse\tTrue\tADP\tIN\\prep\\\n",
            "\"\t\"\tTrue\tFalse\tPUNCT\t``\\punct\\\n",
            "Orange\tOrange\tFalse\tFalse\tPROPN\tNNP\\pobj\\\n",
            "\"\t\"\tTrue\tFalse\tPUNCT\t''\\punct\\\n",
            ".\t.\tTrue\tFalse\tPUNCT\t.\\punct\\\n",
            "It\tit\tFalse\tTrue\tPRON\tPRP\\nsubj\\\n",
            "became\tbecome\tFalse\tTrue\tVERB\tVBD\\ROOT\\\n",
            "a\ta\tFalse\tTrue\tDET\tDT\\det\\\n",
            "subsidiary\tsubsidiary\tFalse\tFalse\tNOUN\tNN\\attr\\\n",
            "of\tof\tFalse\tTrue\tADP\tIN\\prep\\\n",
            "Mannesmann\tMannesmann\tFalse\tFalse\tPROPN\tNNP\\pobj\\ORG\n",
            "in\tin\tFalse\tTrue\tADP\tIN\\prep\\\n",
            "1999\t1999\tFalse\tFalse\tNUM\tCD\\pobj\\DATE\n",
            "and\tand\tFalse\tTrue\tCCONJ\tCC\\cc\\\n",
            "was\tbe\tFalse\tTrue\tAUX\tVBD\\auxpass\\\n",
            "acquired\tacquire\tFalse\tFalse\tVERB\tVBN\\conj\\\n",
            "by\tby\tFalse\tTrue\tADP\tIN\\agent\\\n",
            "France\tFrance\tFalse\tFalse\tPROPN\tNNP\\compound\\ORG\n",
            "Télécom\tTélécom\tFalse\tFalse\tPROPN\tNNP\\pobj\\ORG\n",
            "in\tin\tFalse\tTrue\tADP\tIN\\prep\\\n",
            "2000\t2000\tFalse\tFalse\tNUM\tCD\\pobj\\DATE\n",
            ".\t.\tTrue\tFalse\tPUNCT\t.\\punct\\\n",
            "The\tthe\tFalse\tTrue\tDET\tDT\\det\\\n",
            "company\tcompany\tFalse\tFalse\tNOUN\tNN\\nsubjpass\\\n",
            "was\tbe\tFalse\tTrue\tAUX\tVBD\\auxpass\\\n",
            "rebranded\trebrande\tFalse\tFalse\tVERB\tVBN\\ROOT\\\n",
            "as\tas\tFalse\tTrue\tADP\tIN\\prep\\\n",
            "Orange\tOrange\tFalse\tFalse\tPROPN\tNNP\\pobj\\GPE\n",
            "on\ton\tFalse\tTrue\tADP\tIN\\prep\\\n",
            "1\t1\tFalse\tFalse\tNUM\tCD\\nummod\\DATE\n",
            "July\tJuly\tFalse\tFalse\tPROPN\tNNP\\pobj\\DATE\n",
            "2013\t2013\tFalse\tFalse\tNUM\tCD\\nummod\\DATE\n",
            ".\t.\tTrue\tFalse\tPUNCT\t.\\punct\\\n"
          ]
        }
      ],
      "source": [
        "for token in doc:\n",
        "    print(\"{0}\\t{1}\\t{2}\\t{3}\\t{4}\\t{5}\\{6}\\{7}\".format(\n",
        "        token.text,\n",
        "        token.lemma_,\n",
        "        token.is_punct,\n",
        "        token.is_stop,\n",
        "        token.pos_,\n",
        "        token.tag_,\n",
        "        token.dep_,\n",
        "        token.ent_type_\n",
        "    ))"
      ]
    },
    {
      "cell_type": "markdown",
      "metadata": {
        "id": "oo8PA9OzYU8A"
      },
      "source": [
        "Cet objet nous informe de l’utilisation/qualification de chaque mot (pour plus de détails allez dans l’aide de SpaCy : https://spacy.io/usage/linguistic-features):\n",
        "text: Le texte/mot original \n",
        "lemma_: la forme de base du mot (pour un verbe conjugué par exemple on aura son infinitif) \n",
        "is_punct : la forme est-elle un signe de ponctuation \n",
        "pos_: Le tag part-of-speech (détail ici : https://github.com/explosion/spacy/blob/master/spacy/lang/fr/tag_map.py) tag_: Les informations détaillées part-of-speech (détail ici) \n",
        "ent-type_: type d'entité nommée? \n",
        "dep_ : type de dépendance syntaxique \n",
        "is_stop: Le mot fait-il partie d’une Stop-List ? etc."
      ]
    },
    {
      "cell_type": "code",
      "execution_count": 69,
      "metadata": {
        "colab": {
          "base_uri": "https://localhost:8080/"
        },
        "id": "9f7i2SsnYU8A",
        "outputId": "174f7f45-9213-4680-c519-6cfd5d678608"
      },
      "outputs": [
        {
          "output_type": "stream",
          "name": "stdout",
          "text": [
            "Orange: False\n",
            "has: True\n",
            "been: True\n",
            "the: True\n",
            "company: False\n",
            "'s: True\n",
            "main: False\n",
            "brand: False\n",
            "for: True\n",
            "mobile: False\n",
            ",: False\n",
            "landline: False\n",
            ",: False\n",
            "internet: False\n",
            "and: True\n",
            "IPTV: False\n",
            "services: False\n",
            "since: True\n",
            "2006: False\n",
            ".: False\n",
            "It: True\n",
            "originated: False\n",
            "in: True\n",
            "1994: False\n",
            "when: True\n",
            "Hutchison: False\n",
            "Whampoa: False\n",
            "acquired: False\n",
            "a: True\n",
            "controlling: False\n",
            "stake: False\n",
            "in: True\n",
            "Microtel: False\n",
            "Communications: False\n",
            "during: True\n",
            "the: True\n",
            "early: False\n",
            "1990s: False\n",
            "and: True\n",
            "rebranded: False\n",
            "it: True\n",
            "as: True\n",
            "\": False\n",
            "Orange: False\n",
            "\": False\n",
            ".: False\n",
            "It: True\n",
            "became: True\n",
            "a: True\n",
            "subsidiary: False\n",
            "of: True\n",
            "Mannesmann: False\n",
            "in: True\n",
            "1999: False\n",
            "and: True\n",
            "was: True\n",
            "acquired: False\n",
            "by: True\n",
            "France: False\n",
            "Télécom: False\n",
            "in: True\n",
            "2000: False\n",
            ".: False\n",
            "The: True\n",
            "company: False\n",
            "was: True\n",
            "rebranded: False\n",
            "as: True\n",
            "Orange: False\n",
            "on: True\n",
            "1: False\n",
            "July: False\n",
            "2013: False\n",
            ".: False\n"
          ]
        }
      ],
      "source": [
        "# Tockenisation et identification des mots vides\n",
        "for token in doc:\n",
        "  print(f\"{token}: {token.is_stop}\")"
      ]
    },
    {
      "cell_type": "code",
      "execution_count": 70,
      "metadata": {
        "colab": {
          "base_uri": "https://localhost:8080/"
        },
        "id": "LtFkiQX-YU8A",
        "outputId": "e7b5da39-58ca-42d2-f415-adea0374df34"
      },
      "outputs": [
        {
          "output_type": "stream",
          "name": "stdout",
          "text": [
            "Orange has been the company's main brand for mobile, landline, internet and IPTV services since 2006. It originated in 1994 when Hutchison Whampoa acquired a controlling stake in Microtel Communications during the early 1990s and rebranded it as \"Orange\". It became a subsidiary of Mannesmann in 1999 and was acquired by France Télécom in 2000. The company was rebranded as Orange on 1 July 2013.\n",
            "['Orange', 'company', 'main', 'brand', 'mobile', 'landline', 'internet', 'IPTV', 'services', '2006', 'originated', '1994', 'Hutchison', 'Whampoa', 'acquired', 'controlling', 'stake', 'Microtel', 'Communications', 'early', '1990s', 'rebranded', 'Orange', 'subsidiary', 'Mannesmann', '1999', 'acquired', 'France', 'Télécom', '2000', 'company', 'rebranded', 'Orange', '1', 'July', '2013']\n"
          ]
        }
      ],
      "source": [
        "#Elimination des mots vides et ponctuation\n",
        "print(doc)\n",
        "words = [token.text for token in doc if token.is_stop != True and token.is_punct != True]\n",
        "print (words)"
      ]
    },
    {
      "cell_type": "markdown",
      "metadata": {
        "id": "KTqAJUBCYU8B"
      },
      "source": [
        "### Fréquence des termes"
      ]
    },
    {
      "cell_type": "code",
      "execution_count": 71,
      "metadata": {
        "colab": {
          "base_uri": "https://localhost:8080/"
        },
        "id": "qSjhHlVaYU8B",
        "outputId": "edb885ad-018e-4aa3-f68a-fe362aba9804"
      },
      "outputs": [
        {
          "output_type": "stream",
          "name": "stdout",
          "text": [
            "[('Orange', 3), ('company', 2), ('acquired', 2), ('rebranded', 2), ('main', 1), ('brand', 1), ('mobile', 1), ('landline', 1), ('internet', 1), ('IPTV', 1), ('services', 1), ('2006', 1), ('originated', 1), ('1994', 1), ('Hutchison', 1), ('Whampoa', 1), ('controlling', 1), ('stake', 1), ('Microtel', 1), ('Communications', 1), ('early', 1), ('1990s', 1), ('subsidiary', 1), ('Mannesmann', 1), ('1999', 1), ('France', 1), ('Télécom', 1), ('2000', 1), ('1', 1), ('July', 1), ('2013', 1)]\n"
          ]
        }
      ],
      "source": [
        "from collections import Counter\n",
        "#suppression stopwords et ponctuations\n",
        "words = [token.text for token in doc if token.is_stop != True and token.is_punct != True]\n",
        "word_freq = Counter(words)\n",
        "# on filtre les 5 mots les plus frequent\n",
        "common_words = word_freq.most_common()\n",
        "print (common_words)"
      ]
    },
    {
      "cell_type": "markdown",
      "metadata": {
        "id": "bxuRP2U8YU8B"
      },
      "source": [
        "### Lemmatisation"
      ]
    },
    {
      "cell_type": "code",
      "execution_count": 72,
      "metadata": {
        "colab": {
          "base_uri": "https://localhost:8080/"
        },
        "id": "mJQKzU6yYU8C",
        "outputId": "e85c4a43-0ae2-4c1b-f4c4-8724074ac994"
      },
      "outputs": [
        {
          "output_type": "stream",
          "name": "stdout",
          "text": [
            "Orange Orange\n",
            "has have\n",
            "been be\n",
            "the the\n",
            "company company\n",
            "'s 's\n",
            "main main\n",
            "brand brand\n",
            "for for\n",
            "mobile mobile\n",
            ", ,\n",
            "landline landline\n",
            ", ,\n",
            "internet internet\n",
            "and and\n",
            "IPTV IPTV\n",
            "services service\n",
            "since since\n",
            "2006 2006\n",
            ". .\n",
            "It it\n",
            "originated originate\n",
            "in in\n",
            "1994 1994\n",
            "when when\n",
            "Hutchison Hutchison\n",
            "Whampoa Whampoa\n",
            "acquired acquire\n",
            "a a\n",
            "controlling control\n",
            "stake stake\n",
            "in in\n",
            "Microtel Microtel\n",
            "Communications Communications\n",
            "during during\n",
            "the the\n",
            "early early\n",
            "1990s 1990\n",
            "and and\n",
            "rebranded rebrande\n",
            "it it\n",
            "as as\n",
            "\" \"\n",
            "Orange Orange\n",
            "\" \"\n",
            ". .\n",
            "It it\n",
            "became become\n",
            "a a\n",
            "subsidiary subsidiary\n",
            "of of\n",
            "Mannesmann Mannesmann\n",
            "in in\n",
            "1999 1999\n",
            "and and\n",
            "was be\n",
            "acquired acquire\n",
            "by by\n",
            "France France\n",
            "Télécom Télécom\n",
            "in in\n",
            "2000 2000\n",
            ". .\n",
            "The the\n",
            "company company\n",
            "was be\n",
            "rebranded rebrande\n",
            "as as\n",
            "Orange Orange\n",
            "on on\n",
            "1 1\n",
            "July July\n",
            "2013 2013\n",
            ". .\n"
          ]
        }
      ],
      "source": [
        "# Récupération du lemme\n",
        "for token in doc:\n",
        "  print(token.text, token.lemma_)"
      ]
    },
    {
      "cell_type": "markdown",
      "metadata": {
        "id": "UtnrChTIYU8C"
      },
      "source": [
        "### Etiquetage Morpho-syntaxique"
      ]
    },
    {
      "cell_type": "code",
      "execution_count": 73,
      "metadata": {
        "colab": {
          "base_uri": "https://localhost:8080/"
        },
        "id": "rqusUMMWYU8C",
        "outputId": "4bec6a8a-184c-495c-d287-a981a2f0ccdb"
      },
      "outputs": [
        {
          "output_type": "stream",
          "name": "stdout",
          "text": [
            "Orange PROPN NNP\n",
            "has AUX VBZ\n",
            "been AUX VBN\n",
            "the DET DT\n",
            "company NOUN NN\n",
            "'s PART POS\n",
            "main ADJ JJ\n",
            "brand NOUN NN\n",
            "for ADP IN\n",
            "mobile ADJ JJ\n",
            ", PUNCT ,\n",
            "landline NOUN NN\n",
            ", PUNCT ,\n",
            "internet NOUN NN\n",
            "and CCONJ CC\n",
            "IPTV PROPN NNP\n",
            "services NOUN NNS\n",
            "since SCONJ IN\n",
            "2006 NUM CD\n",
            ". PUNCT .\n",
            "It PRON PRP\n",
            "originated VERB VBD\n",
            "in ADP IN\n",
            "1994 NUM CD\n",
            "when SCONJ WRB\n",
            "Hutchison PROPN NNP\n",
            "Whampoa PROPN NNP\n",
            "acquired VERB VBD\n",
            "a DET DT\n",
            "controlling VERB VBG\n",
            "stake NOUN NN\n",
            "in ADP IN\n",
            "Microtel PROPN NNP\n",
            "Communications PROPN NNP\n",
            "during ADP IN\n",
            "the DET DT\n",
            "early ADJ JJ\n",
            "1990s NOUN NNS\n",
            "and CCONJ CC\n",
            "rebranded VERB VBD\n",
            "it PRON PRP\n",
            "as ADP IN\n",
            "\" PUNCT ``\n",
            "Orange PROPN NNP\n",
            "\" PUNCT ''\n",
            ". PUNCT .\n",
            "It PRON PRP\n",
            "became VERB VBD\n",
            "a DET DT\n",
            "subsidiary NOUN NN\n",
            "of ADP IN\n",
            "Mannesmann PROPN NNP\n",
            "in ADP IN\n",
            "1999 NUM CD\n",
            "and CCONJ CC\n",
            "was AUX VBD\n",
            "acquired VERB VBN\n",
            "by ADP IN\n",
            "France PROPN NNP\n",
            "Télécom PROPN NNP\n",
            "in ADP IN\n",
            "2000 NUM CD\n",
            ". PUNCT .\n",
            "The DET DT\n",
            "company NOUN NN\n",
            "was AUX VBD\n",
            "rebranded VERB VBN\n",
            "as ADP IN\n",
            "Orange PROPN NNP\n",
            "on ADP IN\n",
            "1 NUM CD\n",
            "July PROPN NNP\n",
            "2013 NUM CD\n",
            ". PUNCT .\n"
          ]
        }
      ],
      "source": [
        "# Etiquetage Morpho-syntaxique\n",
        "for token in doc:\n",
        "  print(token.text, token.pos_, token.tag_)"
      ]
    },
    {
      "cell_type": "markdown",
      "metadata": {
        "id": "Byr7SPn8YU8C"
      },
      "source": [
        "### Traitements syntaxiques"
      ]
    },
    {
      "cell_type": "code",
      "execution_count": 74,
      "metadata": {
        "id": "cHCFWszsYU8D"
      },
      "outputs": [],
      "source": [
        "# Dépendances Syntaxiques\n",
        "#L'objectif est de visualiser les relations de dépendance entre les mots d'une phrase. \n",
        "#SpaCy a une fonction de trace pour rendre ce résultat visuel. Pour l’utiliser vous devez importer displacy:"
      ]
    },
    {
      "cell_type": "code",
      "execution_count": 75,
      "metadata": {
        "colab": {
          "base_uri": "https://localhost:8080/",
          "height": 569
        },
        "id": "V2qDDiTdYU8D",
        "outputId": "8261e080-45ec-4888-a65c-52c9b606fdf9"
      },
      "outputs": [
        {
          "output_type": "display_data",
          "data": {
            "text/plain": [
              "<IPython.core.display.HTML object>"
            ],
            "text/html": [
              "<span class=\"tex2jax_ignore\"><svg xmlns=\"http://www.w3.org/2000/svg\" xmlns:xlink=\"http://www.w3.org/1999/xlink\" xml:lang=\"en\" id=\"d30d4a1203704fc790bdd3acbe4ec23c-0\" class=\"displacy\" width=\"8630\" height=\"527.0\" direction=\"ltr\" style=\"max-width: none; height: 527.0px; color: #000000; background: #ffffff; font-family: Arial; direction: ltr\">\n",
              "<text class=\"displacy-token\" fill=\"currentColor\" text-anchor=\"middle\" y=\"437.0\">\n",
              "    <tspan class=\"displacy-word\" fill=\"currentColor\" x=\"50\">Orange</tspan>\n",
              "    <tspan class=\"displacy-tag\" dy=\"2em\" fill=\"currentColor\" x=\"50\">PROPN</tspan>\n",
              "</text>\n",
              "\n",
              "<text class=\"displacy-token\" fill=\"currentColor\" text-anchor=\"middle\" y=\"437.0\">\n",
              "    <tspan class=\"displacy-word\" fill=\"currentColor\" x=\"180\">has</tspan>\n",
              "    <tspan class=\"displacy-tag\" dy=\"2em\" fill=\"currentColor\" x=\"180\">AUX</tspan>\n",
              "</text>\n",
              "\n",
              "<text class=\"displacy-token\" fill=\"currentColor\" text-anchor=\"middle\" y=\"437.0\">\n",
              "    <tspan class=\"displacy-word\" fill=\"currentColor\" x=\"310\">been</tspan>\n",
              "    <tspan class=\"displacy-tag\" dy=\"2em\" fill=\"currentColor\" x=\"310\">AUX</tspan>\n",
              "</text>\n",
              "\n",
              "<text class=\"displacy-token\" fill=\"currentColor\" text-anchor=\"middle\" y=\"437.0\">\n",
              "    <tspan class=\"displacy-word\" fill=\"currentColor\" x=\"440\">the</tspan>\n",
              "    <tspan class=\"displacy-tag\" dy=\"2em\" fill=\"currentColor\" x=\"440\">DET</tspan>\n",
              "</text>\n",
              "\n",
              "<text class=\"displacy-token\" fill=\"currentColor\" text-anchor=\"middle\" y=\"437.0\">\n",
              "    <tspan class=\"displacy-word\" fill=\"currentColor\" x=\"570\">company</tspan>\n",
              "    <tspan class=\"displacy-tag\" dy=\"2em\" fill=\"currentColor\" x=\"570\">NOUN</tspan>\n",
              "</text>\n",
              "\n",
              "<text class=\"displacy-token\" fill=\"currentColor\" text-anchor=\"middle\" y=\"437.0\">\n",
              "    <tspan class=\"displacy-word\" fill=\"currentColor\" x=\"700\">'s</tspan>\n",
              "    <tspan class=\"displacy-tag\" dy=\"2em\" fill=\"currentColor\" x=\"700\">PART</tspan>\n",
              "</text>\n",
              "\n",
              "<text class=\"displacy-token\" fill=\"currentColor\" text-anchor=\"middle\" y=\"437.0\">\n",
              "    <tspan class=\"displacy-word\" fill=\"currentColor\" x=\"830\">main</tspan>\n",
              "    <tspan class=\"displacy-tag\" dy=\"2em\" fill=\"currentColor\" x=\"830\">ADJ</tspan>\n",
              "</text>\n",
              "\n",
              "<text class=\"displacy-token\" fill=\"currentColor\" text-anchor=\"middle\" y=\"437.0\">\n",
              "    <tspan class=\"displacy-word\" fill=\"currentColor\" x=\"960\">brand</tspan>\n",
              "    <tspan class=\"displacy-tag\" dy=\"2em\" fill=\"currentColor\" x=\"960\">NOUN</tspan>\n",
              "</text>\n",
              "\n",
              "<text class=\"displacy-token\" fill=\"currentColor\" text-anchor=\"middle\" y=\"437.0\">\n",
              "    <tspan class=\"displacy-word\" fill=\"currentColor\" x=\"1090\">for</tspan>\n",
              "    <tspan class=\"displacy-tag\" dy=\"2em\" fill=\"currentColor\" x=\"1090\">ADP</tspan>\n",
              "</text>\n",
              "\n",
              "<text class=\"displacy-token\" fill=\"currentColor\" text-anchor=\"middle\" y=\"437.0\">\n",
              "    <tspan class=\"displacy-word\" fill=\"currentColor\" x=\"1220\">mobile,</tspan>\n",
              "    <tspan class=\"displacy-tag\" dy=\"2em\" fill=\"currentColor\" x=\"1220\">ADJ</tspan>\n",
              "</text>\n",
              "\n",
              "<text class=\"displacy-token\" fill=\"currentColor\" text-anchor=\"middle\" y=\"437.0\">\n",
              "    <tspan class=\"displacy-word\" fill=\"currentColor\" x=\"1350\">landline,</tspan>\n",
              "    <tspan class=\"displacy-tag\" dy=\"2em\" fill=\"currentColor\" x=\"1350\">NOUN</tspan>\n",
              "</text>\n",
              "\n",
              "<text class=\"displacy-token\" fill=\"currentColor\" text-anchor=\"middle\" y=\"437.0\">\n",
              "    <tspan class=\"displacy-word\" fill=\"currentColor\" x=\"1480\">internet</tspan>\n",
              "    <tspan class=\"displacy-tag\" dy=\"2em\" fill=\"currentColor\" x=\"1480\">NOUN</tspan>\n",
              "</text>\n",
              "\n",
              "<text class=\"displacy-token\" fill=\"currentColor\" text-anchor=\"middle\" y=\"437.0\">\n",
              "    <tspan class=\"displacy-word\" fill=\"currentColor\" x=\"1610\">and</tspan>\n",
              "    <tspan class=\"displacy-tag\" dy=\"2em\" fill=\"currentColor\" x=\"1610\">CCONJ</tspan>\n",
              "</text>\n",
              "\n",
              "<text class=\"displacy-token\" fill=\"currentColor\" text-anchor=\"middle\" y=\"437.0\">\n",
              "    <tspan class=\"displacy-word\" fill=\"currentColor\" x=\"1740\">IPTV</tspan>\n",
              "    <tspan class=\"displacy-tag\" dy=\"2em\" fill=\"currentColor\" x=\"1740\">PROPN</tspan>\n",
              "</text>\n",
              "\n",
              "<text class=\"displacy-token\" fill=\"currentColor\" text-anchor=\"middle\" y=\"437.0\">\n",
              "    <tspan class=\"displacy-word\" fill=\"currentColor\" x=\"1870\">services</tspan>\n",
              "    <tspan class=\"displacy-tag\" dy=\"2em\" fill=\"currentColor\" x=\"1870\">NOUN</tspan>\n",
              "</text>\n",
              "\n",
              "<text class=\"displacy-token\" fill=\"currentColor\" text-anchor=\"middle\" y=\"437.0\">\n",
              "    <tspan class=\"displacy-word\" fill=\"currentColor\" x=\"2000\">since</tspan>\n",
              "    <tspan class=\"displacy-tag\" dy=\"2em\" fill=\"currentColor\" x=\"2000\">SCONJ</tspan>\n",
              "</text>\n",
              "\n",
              "<text class=\"displacy-token\" fill=\"currentColor\" text-anchor=\"middle\" y=\"437.0\">\n",
              "    <tspan class=\"displacy-word\" fill=\"currentColor\" x=\"2130\">2006.</tspan>\n",
              "    <tspan class=\"displacy-tag\" dy=\"2em\" fill=\"currentColor\" x=\"2130\">NUM</tspan>\n",
              "</text>\n",
              "\n",
              "<text class=\"displacy-token\" fill=\"currentColor\" text-anchor=\"middle\" y=\"437.0\">\n",
              "    <tspan class=\"displacy-word\" fill=\"currentColor\" x=\"2260\">It</tspan>\n",
              "    <tspan class=\"displacy-tag\" dy=\"2em\" fill=\"currentColor\" x=\"2260\">PRON</tspan>\n",
              "</text>\n",
              "\n",
              "<text class=\"displacy-token\" fill=\"currentColor\" text-anchor=\"middle\" y=\"437.0\">\n",
              "    <tspan class=\"displacy-word\" fill=\"currentColor\" x=\"2390\">originated</tspan>\n",
              "    <tspan class=\"displacy-tag\" dy=\"2em\" fill=\"currentColor\" x=\"2390\">VERB</tspan>\n",
              "</text>\n",
              "\n",
              "<text class=\"displacy-token\" fill=\"currentColor\" text-anchor=\"middle\" y=\"437.0\">\n",
              "    <tspan class=\"displacy-word\" fill=\"currentColor\" x=\"2520\">in</tspan>\n",
              "    <tspan class=\"displacy-tag\" dy=\"2em\" fill=\"currentColor\" x=\"2520\">ADP</tspan>\n",
              "</text>\n",
              "\n",
              "<text class=\"displacy-token\" fill=\"currentColor\" text-anchor=\"middle\" y=\"437.0\">\n",
              "    <tspan class=\"displacy-word\" fill=\"currentColor\" x=\"2650\">1994</tspan>\n",
              "    <tspan class=\"displacy-tag\" dy=\"2em\" fill=\"currentColor\" x=\"2650\">NUM</tspan>\n",
              "</text>\n",
              "\n",
              "<text class=\"displacy-token\" fill=\"currentColor\" text-anchor=\"middle\" y=\"437.0\">\n",
              "    <tspan class=\"displacy-word\" fill=\"currentColor\" x=\"2780\">when</tspan>\n",
              "    <tspan class=\"displacy-tag\" dy=\"2em\" fill=\"currentColor\" x=\"2780\">SCONJ</tspan>\n",
              "</text>\n",
              "\n",
              "<text class=\"displacy-token\" fill=\"currentColor\" text-anchor=\"middle\" y=\"437.0\">\n",
              "    <tspan class=\"displacy-word\" fill=\"currentColor\" x=\"2910\">Hutchison</tspan>\n",
              "    <tspan class=\"displacy-tag\" dy=\"2em\" fill=\"currentColor\" x=\"2910\">PROPN</tspan>\n",
              "</text>\n",
              "\n",
              "<text class=\"displacy-token\" fill=\"currentColor\" text-anchor=\"middle\" y=\"437.0\">\n",
              "    <tspan class=\"displacy-word\" fill=\"currentColor\" x=\"3040\">Whampoa</tspan>\n",
              "    <tspan class=\"displacy-tag\" dy=\"2em\" fill=\"currentColor\" x=\"3040\">PROPN</tspan>\n",
              "</text>\n",
              "\n",
              "<text class=\"displacy-token\" fill=\"currentColor\" text-anchor=\"middle\" y=\"437.0\">\n",
              "    <tspan class=\"displacy-word\" fill=\"currentColor\" x=\"3170\">acquired</tspan>\n",
              "    <tspan class=\"displacy-tag\" dy=\"2em\" fill=\"currentColor\" x=\"3170\">VERB</tspan>\n",
              "</text>\n",
              "\n",
              "<text class=\"displacy-token\" fill=\"currentColor\" text-anchor=\"middle\" y=\"437.0\">\n",
              "    <tspan class=\"displacy-word\" fill=\"currentColor\" x=\"3300\">a</tspan>\n",
              "    <tspan class=\"displacy-tag\" dy=\"2em\" fill=\"currentColor\" x=\"3300\">DET</tspan>\n",
              "</text>\n",
              "\n",
              "<text class=\"displacy-token\" fill=\"currentColor\" text-anchor=\"middle\" y=\"437.0\">\n",
              "    <tspan class=\"displacy-word\" fill=\"currentColor\" x=\"3430\">controlling</tspan>\n",
              "    <tspan class=\"displacy-tag\" dy=\"2em\" fill=\"currentColor\" x=\"3430\">VERB</tspan>\n",
              "</text>\n",
              "\n",
              "<text class=\"displacy-token\" fill=\"currentColor\" text-anchor=\"middle\" y=\"437.0\">\n",
              "    <tspan class=\"displacy-word\" fill=\"currentColor\" x=\"3560\">stake</tspan>\n",
              "    <tspan class=\"displacy-tag\" dy=\"2em\" fill=\"currentColor\" x=\"3560\">NOUN</tspan>\n",
              "</text>\n",
              "\n",
              "<text class=\"displacy-token\" fill=\"currentColor\" text-anchor=\"middle\" y=\"437.0\">\n",
              "    <tspan class=\"displacy-word\" fill=\"currentColor\" x=\"3690\">in</tspan>\n",
              "    <tspan class=\"displacy-tag\" dy=\"2em\" fill=\"currentColor\" x=\"3690\">ADP</tspan>\n",
              "</text>\n",
              "\n",
              "<text class=\"displacy-token\" fill=\"currentColor\" text-anchor=\"middle\" y=\"437.0\">\n",
              "    <tspan class=\"displacy-word\" fill=\"currentColor\" x=\"3820\">Microtel</tspan>\n",
              "    <tspan class=\"displacy-tag\" dy=\"2em\" fill=\"currentColor\" x=\"3820\">PROPN</tspan>\n",
              "</text>\n",
              "\n",
              "<text class=\"displacy-token\" fill=\"currentColor\" text-anchor=\"middle\" y=\"437.0\">\n",
              "    <tspan class=\"displacy-word\" fill=\"currentColor\" x=\"3950\">Communications</tspan>\n",
              "    <tspan class=\"displacy-tag\" dy=\"2em\" fill=\"currentColor\" x=\"3950\">PROPN</tspan>\n",
              "</text>\n",
              "\n",
              "<text class=\"displacy-token\" fill=\"currentColor\" text-anchor=\"middle\" y=\"437.0\">\n",
              "    <tspan class=\"displacy-word\" fill=\"currentColor\" x=\"4080\">during</tspan>\n",
              "    <tspan class=\"displacy-tag\" dy=\"2em\" fill=\"currentColor\" x=\"4080\">ADP</tspan>\n",
              "</text>\n",
              "\n",
              "<text class=\"displacy-token\" fill=\"currentColor\" text-anchor=\"middle\" y=\"437.0\">\n",
              "    <tspan class=\"displacy-word\" fill=\"currentColor\" x=\"4210\">the</tspan>\n",
              "    <tspan class=\"displacy-tag\" dy=\"2em\" fill=\"currentColor\" x=\"4210\">DET</tspan>\n",
              "</text>\n",
              "\n",
              "<text class=\"displacy-token\" fill=\"currentColor\" text-anchor=\"middle\" y=\"437.0\">\n",
              "    <tspan class=\"displacy-word\" fill=\"currentColor\" x=\"4340\">early</tspan>\n",
              "    <tspan class=\"displacy-tag\" dy=\"2em\" fill=\"currentColor\" x=\"4340\">ADJ</tspan>\n",
              "</text>\n",
              "\n",
              "<text class=\"displacy-token\" fill=\"currentColor\" text-anchor=\"middle\" y=\"437.0\">\n",
              "    <tspan class=\"displacy-word\" fill=\"currentColor\" x=\"4470\">1990s</tspan>\n",
              "    <tspan class=\"displacy-tag\" dy=\"2em\" fill=\"currentColor\" x=\"4470\">NOUN</tspan>\n",
              "</text>\n",
              "\n",
              "<text class=\"displacy-token\" fill=\"currentColor\" text-anchor=\"middle\" y=\"437.0\">\n",
              "    <tspan class=\"displacy-word\" fill=\"currentColor\" x=\"4600\">and</tspan>\n",
              "    <tspan class=\"displacy-tag\" dy=\"2em\" fill=\"currentColor\" x=\"4600\">CCONJ</tspan>\n",
              "</text>\n",
              "\n",
              "<text class=\"displacy-token\" fill=\"currentColor\" text-anchor=\"middle\" y=\"437.0\">\n",
              "    <tspan class=\"displacy-word\" fill=\"currentColor\" x=\"4730\">rebranded</tspan>\n",
              "    <tspan class=\"displacy-tag\" dy=\"2em\" fill=\"currentColor\" x=\"4730\">VERB</tspan>\n",
              "</text>\n",
              "\n",
              "<text class=\"displacy-token\" fill=\"currentColor\" text-anchor=\"middle\" y=\"437.0\">\n",
              "    <tspan class=\"displacy-word\" fill=\"currentColor\" x=\"4860\">it</tspan>\n",
              "    <tspan class=\"displacy-tag\" dy=\"2em\" fill=\"currentColor\" x=\"4860\">PRON</tspan>\n",
              "</text>\n",
              "\n",
              "<text class=\"displacy-token\" fill=\"currentColor\" text-anchor=\"middle\" y=\"437.0\">\n",
              "    <tspan class=\"displacy-word\" fill=\"currentColor\" x=\"4990\">as &quot;</tspan>\n",
              "    <tspan class=\"displacy-tag\" dy=\"2em\" fill=\"currentColor\" x=\"4990\">ADP</tspan>\n",
              "</text>\n",
              "\n",
              "<text class=\"displacy-token\" fill=\"currentColor\" text-anchor=\"middle\" y=\"437.0\">\n",
              "    <tspan class=\"displacy-word\" fill=\"currentColor\" x=\"5120\">Orange&quot;.</tspan>\n",
              "    <tspan class=\"displacy-tag\" dy=\"2em\" fill=\"currentColor\" x=\"5120\">PROPN</tspan>\n",
              "</text>\n",
              "\n",
              "<text class=\"displacy-token\" fill=\"currentColor\" text-anchor=\"middle\" y=\"437.0\">\n",
              "    <tspan class=\"displacy-word\" fill=\"currentColor\" x=\"5250\">It</tspan>\n",
              "    <tspan class=\"displacy-tag\" dy=\"2em\" fill=\"currentColor\" x=\"5250\">PRON</tspan>\n",
              "</text>\n",
              "\n",
              "<text class=\"displacy-token\" fill=\"currentColor\" text-anchor=\"middle\" y=\"437.0\">\n",
              "    <tspan class=\"displacy-word\" fill=\"currentColor\" x=\"5380\">became</tspan>\n",
              "    <tspan class=\"displacy-tag\" dy=\"2em\" fill=\"currentColor\" x=\"5380\">VERB</tspan>\n",
              "</text>\n",
              "\n",
              "<text class=\"displacy-token\" fill=\"currentColor\" text-anchor=\"middle\" y=\"437.0\">\n",
              "    <tspan class=\"displacy-word\" fill=\"currentColor\" x=\"5510\">a</tspan>\n",
              "    <tspan class=\"displacy-tag\" dy=\"2em\" fill=\"currentColor\" x=\"5510\">DET</tspan>\n",
              "</text>\n",
              "\n",
              "<text class=\"displacy-token\" fill=\"currentColor\" text-anchor=\"middle\" y=\"437.0\">\n",
              "    <tspan class=\"displacy-word\" fill=\"currentColor\" x=\"5640\">subsidiary</tspan>\n",
              "    <tspan class=\"displacy-tag\" dy=\"2em\" fill=\"currentColor\" x=\"5640\">NOUN</tspan>\n",
              "</text>\n",
              "\n",
              "<text class=\"displacy-token\" fill=\"currentColor\" text-anchor=\"middle\" y=\"437.0\">\n",
              "    <tspan class=\"displacy-word\" fill=\"currentColor\" x=\"5770\">of</tspan>\n",
              "    <tspan class=\"displacy-tag\" dy=\"2em\" fill=\"currentColor\" x=\"5770\">ADP</tspan>\n",
              "</text>\n",
              "\n",
              "<text class=\"displacy-token\" fill=\"currentColor\" text-anchor=\"middle\" y=\"437.0\">\n",
              "    <tspan class=\"displacy-word\" fill=\"currentColor\" x=\"5900\">Mannesmann</tspan>\n",
              "    <tspan class=\"displacy-tag\" dy=\"2em\" fill=\"currentColor\" x=\"5900\">PROPN</tspan>\n",
              "</text>\n",
              "\n",
              "<text class=\"displacy-token\" fill=\"currentColor\" text-anchor=\"middle\" y=\"437.0\">\n",
              "    <tspan class=\"displacy-word\" fill=\"currentColor\" x=\"6030\">in</tspan>\n",
              "    <tspan class=\"displacy-tag\" dy=\"2em\" fill=\"currentColor\" x=\"6030\">ADP</tspan>\n",
              "</text>\n",
              "\n",
              "<text class=\"displacy-token\" fill=\"currentColor\" text-anchor=\"middle\" y=\"437.0\">\n",
              "    <tspan class=\"displacy-word\" fill=\"currentColor\" x=\"6160\">1999</tspan>\n",
              "    <tspan class=\"displacy-tag\" dy=\"2em\" fill=\"currentColor\" x=\"6160\">NUM</tspan>\n",
              "</text>\n",
              "\n",
              "<text class=\"displacy-token\" fill=\"currentColor\" text-anchor=\"middle\" y=\"437.0\">\n",
              "    <tspan class=\"displacy-word\" fill=\"currentColor\" x=\"6290\">and</tspan>\n",
              "    <tspan class=\"displacy-tag\" dy=\"2em\" fill=\"currentColor\" x=\"6290\">CCONJ</tspan>\n",
              "</text>\n",
              "\n",
              "<text class=\"displacy-token\" fill=\"currentColor\" text-anchor=\"middle\" y=\"437.0\">\n",
              "    <tspan class=\"displacy-word\" fill=\"currentColor\" x=\"6420\">was</tspan>\n",
              "    <tspan class=\"displacy-tag\" dy=\"2em\" fill=\"currentColor\" x=\"6420\">AUX</tspan>\n",
              "</text>\n",
              "\n",
              "<text class=\"displacy-token\" fill=\"currentColor\" text-anchor=\"middle\" y=\"437.0\">\n",
              "    <tspan class=\"displacy-word\" fill=\"currentColor\" x=\"6550\">acquired</tspan>\n",
              "    <tspan class=\"displacy-tag\" dy=\"2em\" fill=\"currentColor\" x=\"6550\">VERB</tspan>\n",
              "</text>\n",
              "\n",
              "<text class=\"displacy-token\" fill=\"currentColor\" text-anchor=\"middle\" y=\"437.0\">\n",
              "    <tspan class=\"displacy-word\" fill=\"currentColor\" x=\"6680\">by</tspan>\n",
              "    <tspan class=\"displacy-tag\" dy=\"2em\" fill=\"currentColor\" x=\"6680\">ADP</tspan>\n",
              "</text>\n",
              "\n",
              "<text class=\"displacy-token\" fill=\"currentColor\" text-anchor=\"middle\" y=\"437.0\">\n",
              "    <tspan class=\"displacy-word\" fill=\"currentColor\" x=\"6810\">France</tspan>\n",
              "    <tspan class=\"displacy-tag\" dy=\"2em\" fill=\"currentColor\" x=\"6810\">PROPN</tspan>\n",
              "</text>\n",
              "\n",
              "<text class=\"displacy-token\" fill=\"currentColor\" text-anchor=\"middle\" y=\"437.0\">\n",
              "    <tspan class=\"displacy-word\" fill=\"currentColor\" x=\"6940\">Télécom</tspan>\n",
              "    <tspan class=\"displacy-tag\" dy=\"2em\" fill=\"currentColor\" x=\"6940\">PROPN</tspan>\n",
              "</text>\n",
              "\n",
              "<text class=\"displacy-token\" fill=\"currentColor\" text-anchor=\"middle\" y=\"437.0\">\n",
              "    <tspan class=\"displacy-word\" fill=\"currentColor\" x=\"7070\">in</tspan>\n",
              "    <tspan class=\"displacy-tag\" dy=\"2em\" fill=\"currentColor\" x=\"7070\">ADP</tspan>\n",
              "</text>\n",
              "\n",
              "<text class=\"displacy-token\" fill=\"currentColor\" text-anchor=\"middle\" y=\"437.0\">\n",
              "    <tspan class=\"displacy-word\" fill=\"currentColor\" x=\"7200\">2000.</tspan>\n",
              "    <tspan class=\"displacy-tag\" dy=\"2em\" fill=\"currentColor\" x=\"7200\">NUM</tspan>\n",
              "</text>\n",
              "\n",
              "<text class=\"displacy-token\" fill=\"currentColor\" text-anchor=\"middle\" y=\"437.0\">\n",
              "    <tspan class=\"displacy-word\" fill=\"currentColor\" x=\"7330\">The</tspan>\n",
              "    <tspan class=\"displacy-tag\" dy=\"2em\" fill=\"currentColor\" x=\"7330\">DET</tspan>\n",
              "</text>\n",
              "\n",
              "<text class=\"displacy-token\" fill=\"currentColor\" text-anchor=\"middle\" y=\"437.0\">\n",
              "    <tspan class=\"displacy-word\" fill=\"currentColor\" x=\"7460\">company</tspan>\n",
              "    <tspan class=\"displacy-tag\" dy=\"2em\" fill=\"currentColor\" x=\"7460\">NOUN</tspan>\n",
              "</text>\n",
              "\n",
              "<text class=\"displacy-token\" fill=\"currentColor\" text-anchor=\"middle\" y=\"437.0\">\n",
              "    <tspan class=\"displacy-word\" fill=\"currentColor\" x=\"7590\">was</tspan>\n",
              "    <tspan class=\"displacy-tag\" dy=\"2em\" fill=\"currentColor\" x=\"7590\">AUX</tspan>\n",
              "</text>\n",
              "\n",
              "<text class=\"displacy-token\" fill=\"currentColor\" text-anchor=\"middle\" y=\"437.0\">\n",
              "    <tspan class=\"displacy-word\" fill=\"currentColor\" x=\"7720\">rebranded</tspan>\n",
              "    <tspan class=\"displacy-tag\" dy=\"2em\" fill=\"currentColor\" x=\"7720\">VERB</tspan>\n",
              "</text>\n",
              "\n",
              "<text class=\"displacy-token\" fill=\"currentColor\" text-anchor=\"middle\" y=\"437.0\">\n",
              "    <tspan class=\"displacy-word\" fill=\"currentColor\" x=\"7850\">as</tspan>\n",
              "    <tspan class=\"displacy-tag\" dy=\"2em\" fill=\"currentColor\" x=\"7850\">ADP</tspan>\n",
              "</text>\n",
              "\n",
              "<text class=\"displacy-token\" fill=\"currentColor\" text-anchor=\"middle\" y=\"437.0\">\n",
              "    <tspan class=\"displacy-word\" fill=\"currentColor\" x=\"7980\">Orange</tspan>\n",
              "    <tspan class=\"displacy-tag\" dy=\"2em\" fill=\"currentColor\" x=\"7980\">PROPN</tspan>\n",
              "</text>\n",
              "\n",
              "<text class=\"displacy-token\" fill=\"currentColor\" text-anchor=\"middle\" y=\"437.0\">\n",
              "    <tspan class=\"displacy-word\" fill=\"currentColor\" x=\"8110\">on</tspan>\n",
              "    <tspan class=\"displacy-tag\" dy=\"2em\" fill=\"currentColor\" x=\"8110\">ADP</tspan>\n",
              "</text>\n",
              "\n",
              "<text class=\"displacy-token\" fill=\"currentColor\" text-anchor=\"middle\" y=\"437.0\">\n",
              "    <tspan class=\"displacy-word\" fill=\"currentColor\" x=\"8240\">1</tspan>\n",
              "    <tspan class=\"displacy-tag\" dy=\"2em\" fill=\"currentColor\" x=\"8240\">NUM</tspan>\n",
              "</text>\n",
              "\n",
              "<text class=\"displacy-token\" fill=\"currentColor\" text-anchor=\"middle\" y=\"437.0\">\n",
              "    <tspan class=\"displacy-word\" fill=\"currentColor\" x=\"8370\">July</tspan>\n",
              "    <tspan class=\"displacy-tag\" dy=\"2em\" fill=\"currentColor\" x=\"8370\">PROPN</tspan>\n",
              "</text>\n",
              "\n",
              "<text class=\"displacy-token\" fill=\"currentColor\" text-anchor=\"middle\" y=\"437.0\">\n",
              "    <tspan class=\"displacy-word\" fill=\"currentColor\" x=\"8500\">2013.</tspan>\n",
              "    <tspan class=\"displacy-tag\" dy=\"2em\" fill=\"currentColor\" x=\"8500\">NUM</tspan>\n",
              "</text>\n",
              "\n",
              "<g class=\"displacy-arrow\">\n",
              "    <path class=\"displacy-arc\" id=\"arrow-d30d4a1203704fc790bdd3acbe4ec23c-0-0\" stroke-width=\"2px\" d=\"M70,392.0 C70,262.0 290.0,262.0 290.0,392.0\" fill=\"none\" stroke=\"currentColor\"/>\n",
              "    <text dy=\"1.25em\" style=\"font-size: 0.8em; letter-spacing: 1px\">\n",
              "        <textPath xlink:href=\"#arrow-d30d4a1203704fc790bdd3acbe4ec23c-0-0\" class=\"displacy-label\" startOffset=\"50%\" side=\"left\" fill=\"currentColor\" text-anchor=\"middle\">nsubj</textPath>\n",
              "    </text>\n",
              "    <path class=\"displacy-arrowhead\" d=\"M70,394.0 L62,382.0 78,382.0\" fill=\"currentColor\"/>\n",
              "</g>\n",
              "\n",
              "<g class=\"displacy-arrow\">\n",
              "    <path class=\"displacy-arc\" id=\"arrow-d30d4a1203704fc790bdd3acbe4ec23c-0-1\" stroke-width=\"2px\" d=\"M200,392.0 C200,327.0 285.0,327.0 285.0,392.0\" fill=\"none\" stroke=\"currentColor\"/>\n",
              "    <text dy=\"1.25em\" style=\"font-size: 0.8em; letter-spacing: 1px\">\n",
              "        <textPath xlink:href=\"#arrow-d30d4a1203704fc790bdd3acbe4ec23c-0-1\" class=\"displacy-label\" startOffset=\"50%\" side=\"left\" fill=\"currentColor\" text-anchor=\"middle\">aux</textPath>\n",
              "    </text>\n",
              "    <path class=\"displacy-arrowhead\" d=\"M200,394.0 L192,382.0 208,382.0\" fill=\"currentColor\"/>\n",
              "</g>\n",
              "\n",
              "<g class=\"displacy-arrow\">\n",
              "    <path class=\"displacy-arc\" id=\"arrow-d30d4a1203704fc790bdd3acbe4ec23c-0-2\" stroke-width=\"2px\" d=\"M460,392.0 C460,327.0 545.0,327.0 545.0,392.0\" fill=\"none\" stroke=\"currentColor\"/>\n",
              "    <text dy=\"1.25em\" style=\"font-size: 0.8em; letter-spacing: 1px\">\n",
              "        <textPath xlink:href=\"#arrow-d30d4a1203704fc790bdd3acbe4ec23c-0-2\" class=\"displacy-label\" startOffset=\"50%\" side=\"left\" fill=\"currentColor\" text-anchor=\"middle\">det</textPath>\n",
              "    </text>\n",
              "    <path class=\"displacy-arrowhead\" d=\"M460,394.0 L452,382.0 468,382.0\" fill=\"currentColor\"/>\n",
              "</g>\n",
              "\n",
              "<g class=\"displacy-arrow\">\n",
              "    <path class=\"displacy-arc\" id=\"arrow-d30d4a1203704fc790bdd3acbe4ec23c-0-3\" stroke-width=\"2px\" d=\"M590,392.0 C590,262.0 940.0,262.0 940.0,392.0\" fill=\"none\" stroke=\"currentColor\"/>\n",
              "    <text dy=\"1.25em\" style=\"font-size: 0.8em; letter-spacing: 1px\">\n",
              "        <textPath xlink:href=\"#arrow-d30d4a1203704fc790bdd3acbe4ec23c-0-3\" class=\"displacy-label\" startOffset=\"50%\" side=\"left\" fill=\"currentColor\" text-anchor=\"middle\">poss</textPath>\n",
              "    </text>\n",
              "    <path class=\"displacy-arrowhead\" d=\"M590,394.0 L582,382.0 598,382.0\" fill=\"currentColor\"/>\n",
              "</g>\n",
              "\n",
              "<g class=\"displacy-arrow\">\n",
              "    <path class=\"displacy-arc\" id=\"arrow-d30d4a1203704fc790bdd3acbe4ec23c-0-4\" stroke-width=\"2px\" d=\"M590,392.0 C590,327.0 675.0,327.0 675.0,392.0\" fill=\"none\" stroke=\"currentColor\"/>\n",
              "    <text dy=\"1.25em\" style=\"font-size: 0.8em; letter-spacing: 1px\">\n",
              "        <textPath xlink:href=\"#arrow-d30d4a1203704fc790bdd3acbe4ec23c-0-4\" class=\"displacy-label\" startOffset=\"50%\" side=\"left\" fill=\"currentColor\" text-anchor=\"middle\">case</textPath>\n",
              "    </text>\n",
              "    <path class=\"displacy-arrowhead\" d=\"M675.0,394.0 L683.0,382.0 667.0,382.0\" fill=\"currentColor\"/>\n",
              "</g>\n",
              "\n",
              "<g class=\"displacy-arrow\">\n",
              "    <path class=\"displacy-arc\" id=\"arrow-d30d4a1203704fc790bdd3acbe4ec23c-0-5\" stroke-width=\"2px\" d=\"M850,392.0 C850,327.0 935.0,327.0 935.0,392.0\" fill=\"none\" stroke=\"currentColor\"/>\n",
              "    <text dy=\"1.25em\" style=\"font-size: 0.8em; letter-spacing: 1px\">\n",
              "        <textPath xlink:href=\"#arrow-d30d4a1203704fc790bdd3acbe4ec23c-0-5\" class=\"displacy-label\" startOffset=\"50%\" side=\"left\" fill=\"currentColor\" text-anchor=\"middle\">amod</textPath>\n",
              "    </text>\n",
              "    <path class=\"displacy-arrowhead\" d=\"M850,394.0 L842,382.0 858,382.0\" fill=\"currentColor\"/>\n",
              "</g>\n",
              "\n",
              "<g class=\"displacy-arrow\">\n",
              "    <path class=\"displacy-arc\" id=\"arrow-d30d4a1203704fc790bdd3acbe4ec23c-0-6\" stroke-width=\"2px\" d=\"M330,392.0 C330,197.0 945.0,197.0 945.0,392.0\" fill=\"none\" stroke=\"currentColor\"/>\n",
              "    <text dy=\"1.25em\" style=\"font-size: 0.8em; letter-spacing: 1px\">\n",
              "        <textPath xlink:href=\"#arrow-d30d4a1203704fc790bdd3acbe4ec23c-0-6\" class=\"displacy-label\" startOffset=\"50%\" side=\"left\" fill=\"currentColor\" text-anchor=\"middle\">attr</textPath>\n",
              "    </text>\n",
              "    <path class=\"displacy-arrowhead\" d=\"M945.0,394.0 L953.0,382.0 937.0,382.0\" fill=\"currentColor\"/>\n",
              "</g>\n",
              "\n",
              "<g class=\"displacy-arrow\">\n",
              "    <path class=\"displacy-arc\" id=\"arrow-d30d4a1203704fc790bdd3acbe4ec23c-0-7\" stroke-width=\"2px\" d=\"M980,392.0 C980,327.0 1065.0,327.0 1065.0,392.0\" fill=\"none\" stroke=\"currentColor\"/>\n",
              "    <text dy=\"1.25em\" style=\"font-size: 0.8em; letter-spacing: 1px\">\n",
              "        <textPath xlink:href=\"#arrow-d30d4a1203704fc790bdd3acbe4ec23c-0-7\" class=\"displacy-label\" startOffset=\"50%\" side=\"left\" fill=\"currentColor\" text-anchor=\"middle\">prep</textPath>\n",
              "    </text>\n",
              "    <path class=\"displacy-arrowhead\" d=\"M1065.0,394.0 L1073.0,382.0 1057.0,382.0\" fill=\"currentColor\"/>\n",
              "</g>\n",
              "\n",
              "<g class=\"displacy-arrow\">\n",
              "    <path class=\"displacy-arc\" id=\"arrow-d30d4a1203704fc790bdd3acbe4ec23c-0-8\" stroke-width=\"2px\" d=\"M1240,392.0 C1240,197.0 1855.0,197.0 1855.0,392.0\" fill=\"none\" stroke=\"currentColor\"/>\n",
              "    <text dy=\"1.25em\" style=\"font-size: 0.8em; letter-spacing: 1px\">\n",
              "        <textPath xlink:href=\"#arrow-d30d4a1203704fc790bdd3acbe4ec23c-0-8\" class=\"displacy-label\" startOffset=\"50%\" side=\"left\" fill=\"currentColor\" text-anchor=\"middle\">amod</textPath>\n",
              "    </text>\n",
              "    <path class=\"displacy-arrowhead\" d=\"M1240,394.0 L1232,382.0 1248,382.0\" fill=\"currentColor\"/>\n",
              "</g>\n",
              "\n",
              "<g class=\"displacy-arrow\">\n",
              "    <path class=\"displacy-arc\" id=\"arrow-d30d4a1203704fc790bdd3acbe4ec23c-0-9\" stroke-width=\"2px\" d=\"M1240,392.0 C1240,327.0 1325.0,327.0 1325.0,392.0\" fill=\"none\" stroke=\"currentColor\"/>\n",
              "    <text dy=\"1.25em\" style=\"font-size: 0.8em; letter-spacing: 1px\">\n",
              "        <textPath xlink:href=\"#arrow-d30d4a1203704fc790bdd3acbe4ec23c-0-9\" class=\"displacy-label\" startOffset=\"50%\" side=\"left\" fill=\"currentColor\" text-anchor=\"middle\">conj</textPath>\n",
              "    </text>\n",
              "    <path class=\"displacy-arrowhead\" d=\"M1325.0,394.0 L1333.0,382.0 1317.0,382.0\" fill=\"currentColor\"/>\n",
              "</g>\n",
              "\n",
              "<g class=\"displacy-arrow\">\n",
              "    <path class=\"displacy-arc\" id=\"arrow-d30d4a1203704fc790bdd3acbe4ec23c-0-10\" stroke-width=\"2px\" d=\"M1370,392.0 C1370,327.0 1455.0,327.0 1455.0,392.0\" fill=\"none\" stroke=\"currentColor\"/>\n",
              "    <text dy=\"1.25em\" style=\"font-size: 0.8em; letter-spacing: 1px\">\n",
              "        <textPath xlink:href=\"#arrow-d30d4a1203704fc790bdd3acbe4ec23c-0-10\" class=\"displacy-label\" startOffset=\"50%\" side=\"left\" fill=\"currentColor\" text-anchor=\"middle\">conj</textPath>\n",
              "    </text>\n",
              "    <path class=\"displacy-arrowhead\" d=\"M1455.0,394.0 L1463.0,382.0 1447.0,382.0\" fill=\"currentColor\"/>\n",
              "</g>\n",
              "\n",
              "<g class=\"displacy-arrow\">\n",
              "    <path class=\"displacy-arc\" id=\"arrow-d30d4a1203704fc790bdd3acbe4ec23c-0-11\" stroke-width=\"2px\" d=\"M1500,392.0 C1500,327.0 1585.0,327.0 1585.0,392.0\" fill=\"none\" stroke=\"currentColor\"/>\n",
              "    <text dy=\"1.25em\" style=\"font-size: 0.8em; letter-spacing: 1px\">\n",
              "        <textPath xlink:href=\"#arrow-d30d4a1203704fc790bdd3acbe4ec23c-0-11\" class=\"displacy-label\" startOffset=\"50%\" side=\"left\" fill=\"currentColor\" text-anchor=\"middle\">cc</textPath>\n",
              "    </text>\n",
              "    <path class=\"displacy-arrowhead\" d=\"M1585.0,394.0 L1593.0,382.0 1577.0,382.0\" fill=\"currentColor\"/>\n",
              "</g>\n",
              "\n",
              "<g class=\"displacy-arrow\">\n",
              "    <path class=\"displacy-arc\" id=\"arrow-d30d4a1203704fc790bdd3acbe4ec23c-0-12\" stroke-width=\"2px\" d=\"M1500,392.0 C1500,262.0 1720.0,262.0 1720.0,392.0\" fill=\"none\" stroke=\"currentColor\"/>\n",
              "    <text dy=\"1.25em\" style=\"font-size: 0.8em; letter-spacing: 1px\">\n",
              "        <textPath xlink:href=\"#arrow-d30d4a1203704fc790bdd3acbe4ec23c-0-12\" class=\"displacy-label\" startOffset=\"50%\" side=\"left\" fill=\"currentColor\" text-anchor=\"middle\">conj</textPath>\n",
              "    </text>\n",
              "    <path class=\"displacy-arrowhead\" d=\"M1720.0,394.0 L1728.0,382.0 1712.0,382.0\" fill=\"currentColor\"/>\n",
              "</g>\n",
              "\n",
              "<g class=\"displacy-arrow\">\n",
              "    <path class=\"displacy-arc\" id=\"arrow-d30d4a1203704fc790bdd3acbe4ec23c-0-13\" stroke-width=\"2px\" d=\"M1110,392.0 C1110,132.0 1860.0,132.0 1860.0,392.0\" fill=\"none\" stroke=\"currentColor\"/>\n",
              "    <text dy=\"1.25em\" style=\"font-size: 0.8em; letter-spacing: 1px\">\n",
              "        <textPath xlink:href=\"#arrow-d30d4a1203704fc790bdd3acbe4ec23c-0-13\" class=\"displacy-label\" startOffset=\"50%\" side=\"left\" fill=\"currentColor\" text-anchor=\"middle\">pobj</textPath>\n",
              "    </text>\n",
              "    <path class=\"displacy-arrowhead\" d=\"M1860.0,394.0 L1868.0,382.0 1852.0,382.0\" fill=\"currentColor\"/>\n",
              "</g>\n",
              "\n",
              "<g class=\"displacy-arrow\">\n",
              "    <path class=\"displacy-arc\" id=\"arrow-d30d4a1203704fc790bdd3acbe4ec23c-0-14\" stroke-width=\"2px\" d=\"M330,392.0 C330,67.0 1995.0,67.0 1995.0,392.0\" fill=\"none\" stroke=\"currentColor\"/>\n",
              "    <text dy=\"1.25em\" style=\"font-size: 0.8em; letter-spacing: 1px\">\n",
              "        <textPath xlink:href=\"#arrow-d30d4a1203704fc790bdd3acbe4ec23c-0-14\" class=\"displacy-label\" startOffset=\"50%\" side=\"left\" fill=\"currentColor\" text-anchor=\"middle\">prep</textPath>\n",
              "    </text>\n",
              "    <path class=\"displacy-arrowhead\" d=\"M1995.0,394.0 L2003.0,382.0 1987.0,382.0\" fill=\"currentColor\"/>\n",
              "</g>\n",
              "\n",
              "<g class=\"displacy-arrow\">\n",
              "    <path class=\"displacy-arc\" id=\"arrow-d30d4a1203704fc790bdd3acbe4ec23c-0-15\" stroke-width=\"2px\" d=\"M2020,392.0 C2020,327.0 2105.0,327.0 2105.0,392.0\" fill=\"none\" stroke=\"currentColor\"/>\n",
              "    <text dy=\"1.25em\" style=\"font-size: 0.8em; letter-spacing: 1px\">\n",
              "        <textPath xlink:href=\"#arrow-d30d4a1203704fc790bdd3acbe4ec23c-0-15\" class=\"displacy-label\" startOffset=\"50%\" side=\"left\" fill=\"currentColor\" text-anchor=\"middle\">pobj</textPath>\n",
              "    </text>\n",
              "    <path class=\"displacy-arrowhead\" d=\"M2105.0,394.0 L2113.0,382.0 2097.0,382.0\" fill=\"currentColor\"/>\n",
              "</g>\n",
              "\n",
              "<g class=\"displacy-arrow\">\n",
              "    <path class=\"displacy-arc\" id=\"arrow-d30d4a1203704fc790bdd3acbe4ec23c-0-16\" stroke-width=\"2px\" d=\"M2280,392.0 C2280,327.0 2365.0,327.0 2365.0,392.0\" fill=\"none\" stroke=\"currentColor\"/>\n",
              "    <text dy=\"1.25em\" style=\"font-size: 0.8em; letter-spacing: 1px\">\n",
              "        <textPath xlink:href=\"#arrow-d30d4a1203704fc790bdd3acbe4ec23c-0-16\" class=\"displacy-label\" startOffset=\"50%\" side=\"left\" fill=\"currentColor\" text-anchor=\"middle\">nsubj</textPath>\n",
              "    </text>\n",
              "    <path class=\"displacy-arrowhead\" d=\"M2280,394.0 L2272,382.0 2288,382.0\" fill=\"currentColor\"/>\n",
              "</g>\n",
              "\n",
              "<g class=\"displacy-arrow\">\n",
              "    <path class=\"displacy-arc\" id=\"arrow-d30d4a1203704fc790bdd3acbe4ec23c-0-17\" stroke-width=\"2px\" d=\"M2410,392.0 C2410,327.0 2495.0,327.0 2495.0,392.0\" fill=\"none\" stroke=\"currentColor\"/>\n",
              "    <text dy=\"1.25em\" style=\"font-size: 0.8em; letter-spacing: 1px\">\n",
              "        <textPath xlink:href=\"#arrow-d30d4a1203704fc790bdd3acbe4ec23c-0-17\" class=\"displacy-label\" startOffset=\"50%\" side=\"left\" fill=\"currentColor\" text-anchor=\"middle\">prep</textPath>\n",
              "    </text>\n",
              "    <path class=\"displacy-arrowhead\" d=\"M2495.0,394.0 L2503.0,382.0 2487.0,382.0\" fill=\"currentColor\"/>\n",
              "</g>\n",
              "\n",
              "<g class=\"displacy-arrow\">\n",
              "    <path class=\"displacy-arc\" id=\"arrow-d30d4a1203704fc790bdd3acbe4ec23c-0-18\" stroke-width=\"2px\" d=\"M2540,392.0 C2540,327.0 2625.0,327.0 2625.0,392.0\" fill=\"none\" stroke=\"currentColor\"/>\n",
              "    <text dy=\"1.25em\" style=\"font-size: 0.8em; letter-spacing: 1px\">\n",
              "        <textPath xlink:href=\"#arrow-d30d4a1203704fc790bdd3acbe4ec23c-0-18\" class=\"displacy-label\" startOffset=\"50%\" side=\"left\" fill=\"currentColor\" text-anchor=\"middle\">pobj</textPath>\n",
              "    </text>\n",
              "    <path class=\"displacy-arrowhead\" d=\"M2625.0,394.0 L2633.0,382.0 2617.0,382.0\" fill=\"currentColor\"/>\n",
              "</g>\n",
              "\n",
              "<g class=\"displacy-arrow\">\n",
              "    <path class=\"displacy-arc\" id=\"arrow-d30d4a1203704fc790bdd3acbe4ec23c-0-19\" stroke-width=\"2px\" d=\"M2800,392.0 C2800,262.0 3150.0,262.0 3150.0,392.0\" fill=\"none\" stroke=\"currentColor\"/>\n",
              "    <text dy=\"1.25em\" style=\"font-size: 0.8em; letter-spacing: 1px\">\n",
              "        <textPath xlink:href=\"#arrow-d30d4a1203704fc790bdd3acbe4ec23c-0-19\" class=\"displacy-label\" startOffset=\"50%\" side=\"left\" fill=\"currentColor\" text-anchor=\"middle\">advmod</textPath>\n",
              "    </text>\n",
              "    <path class=\"displacy-arrowhead\" d=\"M2800,394.0 L2792,382.0 2808,382.0\" fill=\"currentColor\"/>\n",
              "</g>\n",
              "\n",
              "<g class=\"displacy-arrow\">\n",
              "    <path class=\"displacy-arc\" id=\"arrow-d30d4a1203704fc790bdd3acbe4ec23c-0-20\" stroke-width=\"2px\" d=\"M2930,392.0 C2930,327.0 3015.0,327.0 3015.0,392.0\" fill=\"none\" stroke=\"currentColor\"/>\n",
              "    <text dy=\"1.25em\" style=\"font-size: 0.8em; letter-spacing: 1px\">\n",
              "        <textPath xlink:href=\"#arrow-d30d4a1203704fc790bdd3acbe4ec23c-0-20\" class=\"displacy-label\" startOffset=\"50%\" side=\"left\" fill=\"currentColor\" text-anchor=\"middle\">compound</textPath>\n",
              "    </text>\n",
              "    <path class=\"displacy-arrowhead\" d=\"M2930,394.0 L2922,382.0 2938,382.0\" fill=\"currentColor\"/>\n",
              "</g>\n",
              "\n",
              "<g class=\"displacy-arrow\">\n",
              "    <path class=\"displacy-arc\" id=\"arrow-d30d4a1203704fc790bdd3acbe4ec23c-0-21\" stroke-width=\"2px\" d=\"M3060,392.0 C3060,327.0 3145.0,327.0 3145.0,392.0\" fill=\"none\" stroke=\"currentColor\"/>\n",
              "    <text dy=\"1.25em\" style=\"font-size: 0.8em; letter-spacing: 1px\">\n",
              "        <textPath xlink:href=\"#arrow-d30d4a1203704fc790bdd3acbe4ec23c-0-21\" class=\"displacy-label\" startOffset=\"50%\" side=\"left\" fill=\"currentColor\" text-anchor=\"middle\">nsubj</textPath>\n",
              "    </text>\n",
              "    <path class=\"displacy-arrowhead\" d=\"M3060,394.0 L3052,382.0 3068,382.0\" fill=\"currentColor\"/>\n",
              "</g>\n",
              "\n",
              "<g class=\"displacy-arrow\">\n",
              "    <path class=\"displacy-arc\" id=\"arrow-d30d4a1203704fc790bdd3acbe4ec23c-0-22\" stroke-width=\"2px\" d=\"M2410,392.0 C2410,197.0 3155.0,197.0 3155.0,392.0\" fill=\"none\" stroke=\"currentColor\"/>\n",
              "    <text dy=\"1.25em\" style=\"font-size: 0.8em; letter-spacing: 1px\">\n",
              "        <textPath xlink:href=\"#arrow-d30d4a1203704fc790bdd3acbe4ec23c-0-22\" class=\"displacy-label\" startOffset=\"50%\" side=\"left\" fill=\"currentColor\" text-anchor=\"middle\">advcl</textPath>\n",
              "    </text>\n",
              "    <path class=\"displacy-arrowhead\" d=\"M3155.0,394.0 L3163.0,382.0 3147.0,382.0\" fill=\"currentColor\"/>\n",
              "</g>\n",
              "\n",
              "<g class=\"displacy-arrow\">\n",
              "    <path class=\"displacy-arc\" id=\"arrow-d30d4a1203704fc790bdd3acbe4ec23c-0-23\" stroke-width=\"2px\" d=\"M3320,392.0 C3320,262.0 3540.0,262.0 3540.0,392.0\" fill=\"none\" stroke=\"currentColor\"/>\n",
              "    <text dy=\"1.25em\" style=\"font-size: 0.8em; letter-spacing: 1px\">\n",
              "        <textPath xlink:href=\"#arrow-d30d4a1203704fc790bdd3acbe4ec23c-0-23\" class=\"displacy-label\" startOffset=\"50%\" side=\"left\" fill=\"currentColor\" text-anchor=\"middle\">det</textPath>\n",
              "    </text>\n",
              "    <path class=\"displacy-arrowhead\" d=\"M3320,394.0 L3312,382.0 3328,382.0\" fill=\"currentColor\"/>\n",
              "</g>\n",
              "\n",
              "<g class=\"displacy-arrow\">\n",
              "    <path class=\"displacy-arc\" id=\"arrow-d30d4a1203704fc790bdd3acbe4ec23c-0-24\" stroke-width=\"2px\" d=\"M3450,392.0 C3450,327.0 3535.0,327.0 3535.0,392.0\" fill=\"none\" stroke=\"currentColor\"/>\n",
              "    <text dy=\"1.25em\" style=\"font-size: 0.8em; letter-spacing: 1px\">\n",
              "        <textPath xlink:href=\"#arrow-d30d4a1203704fc790bdd3acbe4ec23c-0-24\" class=\"displacy-label\" startOffset=\"50%\" side=\"left\" fill=\"currentColor\" text-anchor=\"middle\">amod</textPath>\n",
              "    </text>\n",
              "    <path class=\"displacy-arrowhead\" d=\"M3450,394.0 L3442,382.0 3458,382.0\" fill=\"currentColor\"/>\n",
              "</g>\n",
              "\n",
              "<g class=\"displacy-arrow\">\n",
              "    <path class=\"displacy-arc\" id=\"arrow-d30d4a1203704fc790bdd3acbe4ec23c-0-25\" stroke-width=\"2px\" d=\"M3190,392.0 C3190,197.0 3545.0,197.0 3545.0,392.0\" fill=\"none\" stroke=\"currentColor\"/>\n",
              "    <text dy=\"1.25em\" style=\"font-size: 0.8em; letter-spacing: 1px\">\n",
              "        <textPath xlink:href=\"#arrow-d30d4a1203704fc790bdd3acbe4ec23c-0-25\" class=\"displacy-label\" startOffset=\"50%\" side=\"left\" fill=\"currentColor\" text-anchor=\"middle\">dobj</textPath>\n",
              "    </text>\n",
              "    <path class=\"displacy-arrowhead\" d=\"M3545.0,394.0 L3553.0,382.0 3537.0,382.0\" fill=\"currentColor\"/>\n",
              "</g>\n",
              "\n",
              "<g class=\"displacy-arrow\">\n",
              "    <path class=\"displacy-arc\" id=\"arrow-d30d4a1203704fc790bdd3acbe4ec23c-0-26\" stroke-width=\"2px\" d=\"M3580,392.0 C3580,327.0 3665.0,327.0 3665.0,392.0\" fill=\"none\" stroke=\"currentColor\"/>\n",
              "    <text dy=\"1.25em\" style=\"font-size: 0.8em; letter-spacing: 1px\">\n",
              "        <textPath xlink:href=\"#arrow-d30d4a1203704fc790bdd3acbe4ec23c-0-26\" class=\"displacy-label\" startOffset=\"50%\" side=\"left\" fill=\"currentColor\" text-anchor=\"middle\">prep</textPath>\n",
              "    </text>\n",
              "    <path class=\"displacy-arrowhead\" d=\"M3665.0,394.0 L3673.0,382.0 3657.0,382.0\" fill=\"currentColor\"/>\n",
              "</g>\n",
              "\n",
              "<g class=\"displacy-arrow\">\n",
              "    <path class=\"displacy-arc\" id=\"arrow-d30d4a1203704fc790bdd3acbe4ec23c-0-27\" stroke-width=\"2px\" d=\"M3840,392.0 C3840,327.0 3925.0,327.0 3925.0,392.0\" fill=\"none\" stroke=\"currentColor\"/>\n",
              "    <text dy=\"1.25em\" style=\"font-size: 0.8em; letter-spacing: 1px\">\n",
              "        <textPath xlink:href=\"#arrow-d30d4a1203704fc790bdd3acbe4ec23c-0-27\" class=\"displacy-label\" startOffset=\"50%\" side=\"left\" fill=\"currentColor\" text-anchor=\"middle\">compound</textPath>\n",
              "    </text>\n",
              "    <path class=\"displacy-arrowhead\" d=\"M3840,394.0 L3832,382.0 3848,382.0\" fill=\"currentColor\"/>\n",
              "</g>\n",
              "\n",
              "<g class=\"displacy-arrow\">\n",
              "    <path class=\"displacy-arc\" id=\"arrow-d30d4a1203704fc790bdd3acbe4ec23c-0-28\" stroke-width=\"2px\" d=\"M3710,392.0 C3710,262.0 3930.0,262.0 3930.0,392.0\" fill=\"none\" stroke=\"currentColor\"/>\n",
              "    <text dy=\"1.25em\" style=\"font-size: 0.8em; letter-spacing: 1px\">\n",
              "        <textPath xlink:href=\"#arrow-d30d4a1203704fc790bdd3acbe4ec23c-0-28\" class=\"displacy-label\" startOffset=\"50%\" side=\"left\" fill=\"currentColor\" text-anchor=\"middle\">pobj</textPath>\n",
              "    </text>\n",
              "    <path class=\"displacy-arrowhead\" d=\"M3930.0,394.0 L3938.0,382.0 3922.0,382.0\" fill=\"currentColor\"/>\n",
              "</g>\n",
              "\n",
              "<g class=\"displacy-arrow\">\n",
              "    <path class=\"displacy-arc\" id=\"arrow-d30d4a1203704fc790bdd3acbe4ec23c-0-29\" stroke-width=\"2px\" d=\"M3190,392.0 C3190,132.0 4070.0,132.0 4070.0,392.0\" fill=\"none\" stroke=\"currentColor\"/>\n",
              "    <text dy=\"1.25em\" style=\"font-size: 0.8em; letter-spacing: 1px\">\n",
              "        <textPath xlink:href=\"#arrow-d30d4a1203704fc790bdd3acbe4ec23c-0-29\" class=\"displacy-label\" startOffset=\"50%\" side=\"left\" fill=\"currentColor\" text-anchor=\"middle\">prep</textPath>\n",
              "    </text>\n",
              "    <path class=\"displacy-arrowhead\" d=\"M4070.0,394.0 L4078.0,382.0 4062.0,382.0\" fill=\"currentColor\"/>\n",
              "</g>\n",
              "\n",
              "<g class=\"displacy-arrow\">\n",
              "    <path class=\"displacy-arc\" id=\"arrow-d30d4a1203704fc790bdd3acbe4ec23c-0-30\" stroke-width=\"2px\" d=\"M4230,392.0 C4230,262.0 4450.0,262.0 4450.0,392.0\" fill=\"none\" stroke=\"currentColor\"/>\n",
              "    <text dy=\"1.25em\" style=\"font-size: 0.8em; letter-spacing: 1px\">\n",
              "        <textPath xlink:href=\"#arrow-d30d4a1203704fc790bdd3acbe4ec23c-0-30\" class=\"displacy-label\" startOffset=\"50%\" side=\"left\" fill=\"currentColor\" text-anchor=\"middle\">det</textPath>\n",
              "    </text>\n",
              "    <path class=\"displacy-arrowhead\" d=\"M4230,394.0 L4222,382.0 4238,382.0\" fill=\"currentColor\"/>\n",
              "</g>\n",
              "\n",
              "<g class=\"displacy-arrow\">\n",
              "    <path class=\"displacy-arc\" id=\"arrow-d30d4a1203704fc790bdd3acbe4ec23c-0-31\" stroke-width=\"2px\" d=\"M4360,392.0 C4360,327.0 4445.0,327.0 4445.0,392.0\" fill=\"none\" stroke=\"currentColor\"/>\n",
              "    <text dy=\"1.25em\" style=\"font-size: 0.8em; letter-spacing: 1px\">\n",
              "        <textPath xlink:href=\"#arrow-d30d4a1203704fc790bdd3acbe4ec23c-0-31\" class=\"displacy-label\" startOffset=\"50%\" side=\"left\" fill=\"currentColor\" text-anchor=\"middle\">amod</textPath>\n",
              "    </text>\n",
              "    <path class=\"displacy-arrowhead\" d=\"M4360,394.0 L4352,382.0 4368,382.0\" fill=\"currentColor\"/>\n",
              "</g>\n",
              "\n",
              "<g class=\"displacy-arrow\">\n",
              "    <path class=\"displacy-arc\" id=\"arrow-d30d4a1203704fc790bdd3acbe4ec23c-0-32\" stroke-width=\"2px\" d=\"M4100,392.0 C4100,197.0 4455.0,197.0 4455.0,392.0\" fill=\"none\" stroke=\"currentColor\"/>\n",
              "    <text dy=\"1.25em\" style=\"font-size: 0.8em; letter-spacing: 1px\">\n",
              "        <textPath xlink:href=\"#arrow-d30d4a1203704fc790bdd3acbe4ec23c-0-32\" class=\"displacy-label\" startOffset=\"50%\" side=\"left\" fill=\"currentColor\" text-anchor=\"middle\">pobj</textPath>\n",
              "    </text>\n",
              "    <path class=\"displacy-arrowhead\" d=\"M4455.0,394.0 L4463.0,382.0 4447.0,382.0\" fill=\"currentColor\"/>\n",
              "</g>\n",
              "\n",
              "<g class=\"displacy-arrow\">\n",
              "    <path class=\"displacy-arc\" id=\"arrow-d30d4a1203704fc790bdd3acbe4ec23c-0-33\" stroke-width=\"2px\" d=\"M3190,392.0 C3190,67.0 4595.0,67.0 4595.0,392.0\" fill=\"none\" stroke=\"currentColor\"/>\n",
              "    <text dy=\"1.25em\" style=\"font-size: 0.8em; letter-spacing: 1px\">\n",
              "        <textPath xlink:href=\"#arrow-d30d4a1203704fc790bdd3acbe4ec23c-0-33\" class=\"displacy-label\" startOffset=\"50%\" side=\"left\" fill=\"currentColor\" text-anchor=\"middle\">cc</textPath>\n",
              "    </text>\n",
              "    <path class=\"displacy-arrowhead\" d=\"M4595.0,394.0 L4603.0,382.0 4587.0,382.0\" fill=\"currentColor\"/>\n",
              "</g>\n",
              "\n",
              "<g class=\"displacy-arrow\">\n",
              "    <path class=\"displacy-arc\" id=\"arrow-d30d4a1203704fc790bdd3acbe4ec23c-0-34\" stroke-width=\"2px\" d=\"M3190,392.0 C3190,2.0 4730.0,2.0 4730.0,392.0\" fill=\"none\" stroke=\"currentColor\"/>\n",
              "    <text dy=\"1.25em\" style=\"font-size: 0.8em; letter-spacing: 1px\">\n",
              "        <textPath xlink:href=\"#arrow-d30d4a1203704fc790bdd3acbe4ec23c-0-34\" class=\"displacy-label\" startOffset=\"50%\" side=\"left\" fill=\"currentColor\" text-anchor=\"middle\">conj</textPath>\n",
              "    </text>\n",
              "    <path class=\"displacy-arrowhead\" d=\"M4730.0,394.0 L4738.0,382.0 4722.0,382.0\" fill=\"currentColor\"/>\n",
              "</g>\n",
              "\n",
              "<g class=\"displacy-arrow\">\n",
              "    <path class=\"displacy-arc\" id=\"arrow-d30d4a1203704fc790bdd3acbe4ec23c-0-35\" stroke-width=\"2px\" d=\"M4750,392.0 C4750,327.0 4835.0,327.0 4835.0,392.0\" fill=\"none\" stroke=\"currentColor\"/>\n",
              "    <text dy=\"1.25em\" style=\"font-size: 0.8em; letter-spacing: 1px\">\n",
              "        <textPath xlink:href=\"#arrow-d30d4a1203704fc790bdd3acbe4ec23c-0-35\" class=\"displacy-label\" startOffset=\"50%\" side=\"left\" fill=\"currentColor\" text-anchor=\"middle\">dobj</textPath>\n",
              "    </text>\n",
              "    <path class=\"displacy-arrowhead\" d=\"M4835.0,394.0 L4843.0,382.0 4827.0,382.0\" fill=\"currentColor\"/>\n",
              "</g>\n",
              "\n",
              "<g class=\"displacy-arrow\">\n",
              "    <path class=\"displacy-arc\" id=\"arrow-d30d4a1203704fc790bdd3acbe4ec23c-0-36\" stroke-width=\"2px\" d=\"M4750,392.0 C4750,262.0 4970.0,262.0 4970.0,392.0\" fill=\"none\" stroke=\"currentColor\"/>\n",
              "    <text dy=\"1.25em\" style=\"font-size: 0.8em; letter-spacing: 1px\">\n",
              "        <textPath xlink:href=\"#arrow-d30d4a1203704fc790bdd3acbe4ec23c-0-36\" class=\"displacy-label\" startOffset=\"50%\" side=\"left\" fill=\"currentColor\" text-anchor=\"middle\">prep</textPath>\n",
              "    </text>\n",
              "    <path class=\"displacy-arrowhead\" d=\"M4970.0,394.0 L4978.0,382.0 4962.0,382.0\" fill=\"currentColor\"/>\n",
              "</g>\n",
              "\n",
              "<g class=\"displacy-arrow\">\n",
              "    <path class=\"displacy-arc\" id=\"arrow-d30d4a1203704fc790bdd3acbe4ec23c-0-37\" stroke-width=\"2px\" d=\"M5010,392.0 C5010,327.0 5095.0,327.0 5095.0,392.0\" fill=\"none\" stroke=\"currentColor\"/>\n",
              "    <text dy=\"1.25em\" style=\"font-size: 0.8em; letter-spacing: 1px\">\n",
              "        <textPath xlink:href=\"#arrow-d30d4a1203704fc790bdd3acbe4ec23c-0-37\" class=\"displacy-label\" startOffset=\"50%\" side=\"left\" fill=\"currentColor\" text-anchor=\"middle\">pobj</textPath>\n",
              "    </text>\n",
              "    <path class=\"displacy-arrowhead\" d=\"M5095.0,394.0 L5103.0,382.0 5087.0,382.0\" fill=\"currentColor\"/>\n",
              "</g>\n",
              "\n",
              "<g class=\"displacy-arrow\">\n",
              "    <path class=\"displacy-arc\" id=\"arrow-d30d4a1203704fc790bdd3acbe4ec23c-0-38\" stroke-width=\"2px\" d=\"M5270,392.0 C5270,327.0 5355.0,327.0 5355.0,392.0\" fill=\"none\" stroke=\"currentColor\"/>\n",
              "    <text dy=\"1.25em\" style=\"font-size: 0.8em; letter-spacing: 1px\">\n",
              "        <textPath xlink:href=\"#arrow-d30d4a1203704fc790bdd3acbe4ec23c-0-38\" class=\"displacy-label\" startOffset=\"50%\" side=\"left\" fill=\"currentColor\" text-anchor=\"middle\">nsubj</textPath>\n",
              "    </text>\n",
              "    <path class=\"displacy-arrowhead\" d=\"M5270,394.0 L5262,382.0 5278,382.0\" fill=\"currentColor\"/>\n",
              "</g>\n",
              "\n",
              "<g class=\"displacy-arrow\">\n",
              "    <path class=\"displacy-arc\" id=\"arrow-d30d4a1203704fc790bdd3acbe4ec23c-0-39\" stroke-width=\"2px\" d=\"M5530,392.0 C5530,327.0 5615.0,327.0 5615.0,392.0\" fill=\"none\" stroke=\"currentColor\"/>\n",
              "    <text dy=\"1.25em\" style=\"font-size: 0.8em; letter-spacing: 1px\">\n",
              "        <textPath xlink:href=\"#arrow-d30d4a1203704fc790bdd3acbe4ec23c-0-39\" class=\"displacy-label\" startOffset=\"50%\" side=\"left\" fill=\"currentColor\" text-anchor=\"middle\">det</textPath>\n",
              "    </text>\n",
              "    <path class=\"displacy-arrowhead\" d=\"M5530,394.0 L5522,382.0 5538,382.0\" fill=\"currentColor\"/>\n",
              "</g>\n",
              "\n",
              "<g class=\"displacy-arrow\">\n",
              "    <path class=\"displacy-arc\" id=\"arrow-d30d4a1203704fc790bdd3acbe4ec23c-0-40\" stroke-width=\"2px\" d=\"M5400,392.0 C5400,262.0 5620.0,262.0 5620.0,392.0\" fill=\"none\" stroke=\"currentColor\"/>\n",
              "    <text dy=\"1.25em\" style=\"font-size: 0.8em; letter-spacing: 1px\">\n",
              "        <textPath xlink:href=\"#arrow-d30d4a1203704fc790bdd3acbe4ec23c-0-40\" class=\"displacy-label\" startOffset=\"50%\" side=\"left\" fill=\"currentColor\" text-anchor=\"middle\">attr</textPath>\n",
              "    </text>\n",
              "    <path class=\"displacy-arrowhead\" d=\"M5620.0,394.0 L5628.0,382.0 5612.0,382.0\" fill=\"currentColor\"/>\n",
              "</g>\n",
              "\n",
              "<g class=\"displacy-arrow\">\n",
              "    <path class=\"displacy-arc\" id=\"arrow-d30d4a1203704fc790bdd3acbe4ec23c-0-41\" stroke-width=\"2px\" d=\"M5660,392.0 C5660,327.0 5745.0,327.0 5745.0,392.0\" fill=\"none\" stroke=\"currentColor\"/>\n",
              "    <text dy=\"1.25em\" style=\"font-size: 0.8em; letter-spacing: 1px\">\n",
              "        <textPath xlink:href=\"#arrow-d30d4a1203704fc790bdd3acbe4ec23c-0-41\" class=\"displacy-label\" startOffset=\"50%\" side=\"left\" fill=\"currentColor\" text-anchor=\"middle\">prep</textPath>\n",
              "    </text>\n",
              "    <path class=\"displacy-arrowhead\" d=\"M5745.0,394.0 L5753.0,382.0 5737.0,382.0\" fill=\"currentColor\"/>\n",
              "</g>\n",
              "\n",
              "<g class=\"displacy-arrow\">\n",
              "    <path class=\"displacy-arc\" id=\"arrow-d30d4a1203704fc790bdd3acbe4ec23c-0-42\" stroke-width=\"2px\" d=\"M5790,392.0 C5790,327.0 5875.0,327.0 5875.0,392.0\" fill=\"none\" stroke=\"currentColor\"/>\n",
              "    <text dy=\"1.25em\" style=\"font-size: 0.8em; letter-spacing: 1px\">\n",
              "        <textPath xlink:href=\"#arrow-d30d4a1203704fc790bdd3acbe4ec23c-0-42\" class=\"displacy-label\" startOffset=\"50%\" side=\"left\" fill=\"currentColor\" text-anchor=\"middle\">pobj</textPath>\n",
              "    </text>\n",
              "    <path class=\"displacy-arrowhead\" d=\"M5875.0,394.0 L5883.0,382.0 5867.0,382.0\" fill=\"currentColor\"/>\n",
              "</g>\n",
              "\n",
              "<g class=\"displacy-arrow\">\n",
              "    <path class=\"displacy-arc\" id=\"arrow-d30d4a1203704fc790bdd3acbe4ec23c-0-43\" stroke-width=\"2px\" d=\"M5400,392.0 C5400,197.0 6015.0,197.0 6015.0,392.0\" fill=\"none\" stroke=\"currentColor\"/>\n",
              "    <text dy=\"1.25em\" style=\"font-size: 0.8em; letter-spacing: 1px\">\n",
              "        <textPath xlink:href=\"#arrow-d30d4a1203704fc790bdd3acbe4ec23c-0-43\" class=\"displacy-label\" startOffset=\"50%\" side=\"left\" fill=\"currentColor\" text-anchor=\"middle\">prep</textPath>\n",
              "    </text>\n",
              "    <path class=\"displacy-arrowhead\" d=\"M6015.0,394.0 L6023.0,382.0 6007.0,382.0\" fill=\"currentColor\"/>\n",
              "</g>\n",
              "\n",
              "<g class=\"displacy-arrow\">\n",
              "    <path class=\"displacy-arc\" id=\"arrow-d30d4a1203704fc790bdd3acbe4ec23c-0-44\" stroke-width=\"2px\" d=\"M6050,392.0 C6050,327.0 6135.0,327.0 6135.0,392.0\" fill=\"none\" stroke=\"currentColor\"/>\n",
              "    <text dy=\"1.25em\" style=\"font-size: 0.8em; letter-spacing: 1px\">\n",
              "        <textPath xlink:href=\"#arrow-d30d4a1203704fc790bdd3acbe4ec23c-0-44\" class=\"displacy-label\" startOffset=\"50%\" side=\"left\" fill=\"currentColor\" text-anchor=\"middle\">pobj</textPath>\n",
              "    </text>\n",
              "    <path class=\"displacy-arrowhead\" d=\"M6135.0,394.0 L6143.0,382.0 6127.0,382.0\" fill=\"currentColor\"/>\n",
              "</g>\n",
              "\n",
              "<g class=\"displacy-arrow\">\n",
              "    <path class=\"displacy-arc\" id=\"arrow-d30d4a1203704fc790bdd3acbe4ec23c-0-45\" stroke-width=\"2px\" d=\"M5400,392.0 C5400,132.0 6280.0,132.0 6280.0,392.0\" fill=\"none\" stroke=\"currentColor\"/>\n",
              "    <text dy=\"1.25em\" style=\"font-size: 0.8em; letter-spacing: 1px\">\n",
              "        <textPath xlink:href=\"#arrow-d30d4a1203704fc790bdd3acbe4ec23c-0-45\" class=\"displacy-label\" startOffset=\"50%\" side=\"left\" fill=\"currentColor\" text-anchor=\"middle\">cc</textPath>\n",
              "    </text>\n",
              "    <path class=\"displacy-arrowhead\" d=\"M6280.0,394.0 L6288.0,382.0 6272.0,382.0\" fill=\"currentColor\"/>\n",
              "</g>\n",
              "\n",
              "<g class=\"displacy-arrow\">\n",
              "    <path class=\"displacy-arc\" id=\"arrow-d30d4a1203704fc790bdd3acbe4ec23c-0-46\" stroke-width=\"2px\" d=\"M6440,392.0 C6440,327.0 6525.0,327.0 6525.0,392.0\" fill=\"none\" stroke=\"currentColor\"/>\n",
              "    <text dy=\"1.25em\" style=\"font-size: 0.8em; letter-spacing: 1px\">\n",
              "        <textPath xlink:href=\"#arrow-d30d4a1203704fc790bdd3acbe4ec23c-0-46\" class=\"displacy-label\" startOffset=\"50%\" side=\"left\" fill=\"currentColor\" text-anchor=\"middle\">auxpass</textPath>\n",
              "    </text>\n",
              "    <path class=\"displacy-arrowhead\" d=\"M6440,394.0 L6432,382.0 6448,382.0\" fill=\"currentColor\"/>\n",
              "</g>\n",
              "\n",
              "<g class=\"displacy-arrow\">\n",
              "    <path class=\"displacy-arc\" id=\"arrow-d30d4a1203704fc790bdd3acbe4ec23c-0-47\" stroke-width=\"2px\" d=\"M5400,392.0 C5400,67.0 6545.0,67.0 6545.0,392.0\" fill=\"none\" stroke=\"currentColor\"/>\n",
              "    <text dy=\"1.25em\" style=\"font-size: 0.8em; letter-spacing: 1px\">\n",
              "        <textPath xlink:href=\"#arrow-d30d4a1203704fc790bdd3acbe4ec23c-0-47\" class=\"displacy-label\" startOffset=\"50%\" side=\"left\" fill=\"currentColor\" text-anchor=\"middle\">conj</textPath>\n",
              "    </text>\n",
              "    <path class=\"displacy-arrowhead\" d=\"M6545.0,394.0 L6553.0,382.0 6537.0,382.0\" fill=\"currentColor\"/>\n",
              "</g>\n",
              "\n",
              "<g class=\"displacy-arrow\">\n",
              "    <path class=\"displacy-arc\" id=\"arrow-d30d4a1203704fc790bdd3acbe4ec23c-0-48\" stroke-width=\"2px\" d=\"M6570,392.0 C6570,327.0 6655.0,327.0 6655.0,392.0\" fill=\"none\" stroke=\"currentColor\"/>\n",
              "    <text dy=\"1.25em\" style=\"font-size: 0.8em; letter-spacing: 1px\">\n",
              "        <textPath xlink:href=\"#arrow-d30d4a1203704fc790bdd3acbe4ec23c-0-48\" class=\"displacy-label\" startOffset=\"50%\" side=\"left\" fill=\"currentColor\" text-anchor=\"middle\">agent</textPath>\n",
              "    </text>\n",
              "    <path class=\"displacy-arrowhead\" d=\"M6655.0,394.0 L6663.0,382.0 6647.0,382.0\" fill=\"currentColor\"/>\n",
              "</g>\n",
              "\n",
              "<g class=\"displacy-arrow\">\n",
              "    <path class=\"displacy-arc\" id=\"arrow-d30d4a1203704fc790bdd3acbe4ec23c-0-49\" stroke-width=\"2px\" d=\"M6830,392.0 C6830,327.0 6915.0,327.0 6915.0,392.0\" fill=\"none\" stroke=\"currentColor\"/>\n",
              "    <text dy=\"1.25em\" style=\"font-size: 0.8em; letter-spacing: 1px\">\n",
              "        <textPath xlink:href=\"#arrow-d30d4a1203704fc790bdd3acbe4ec23c-0-49\" class=\"displacy-label\" startOffset=\"50%\" side=\"left\" fill=\"currentColor\" text-anchor=\"middle\">compound</textPath>\n",
              "    </text>\n",
              "    <path class=\"displacy-arrowhead\" d=\"M6830,394.0 L6822,382.0 6838,382.0\" fill=\"currentColor\"/>\n",
              "</g>\n",
              "\n",
              "<g class=\"displacy-arrow\">\n",
              "    <path class=\"displacy-arc\" id=\"arrow-d30d4a1203704fc790bdd3acbe4ec23c-0-50\" stroke-width=\"2px\" d=\"M6700,392.0 C6700,262.0 6920.0,262.0 6920.0,392.0\" fill=\"none\" stroke=\"currentColor\"/>\n",
              "    <text dy=\"1.25em\" style=\"font-size: 0.8em; letter-spacing: 1px\">\n",
              "        <textPath xlink:href=\"#arrow-d30d4a1203704fc790bdd3acbe4ec23c-0-50\" class=\"displacy-label\" startOffset=\"50%\" side=\"left\" fill=\"currentColor\" text-anchor=\"middle\">pobj</textPath>\n",
              "    </text>\n",
              "    <path class=\"displacy-arrowhead\" d=\"M6920.0,394.0 L6928.0,382.0 6912.0,382.0\" fill=\"currentColor\"/>\n",
              "</g>\n",
              "\n",
              "<g class=\"displacy-arrow\">\n",
              "    <path class=\"displacy-arc\" id=\"arrow-d30d4a1203704fc790bdd3acbe4ec23c-0-51\" stroke-width=\"2px\" d=\"M6570,392.0 C6570,197.0 7055.0,197.0 7055.0,392.0\" fill=\"none\" stroke=\"currentColor\"/>\n",
              "    <text dy=\"1.25em\" style=\"font-size: 0.8em; letter-spacing: 1px\">\n",
              "        <textPath xlink:href=\"#arrow-d30d4a1203704fc790bdd3acbe4ec23c-0-51\" class=\"displacy-label\" startOffset=\"50%\" side=\"left\" fill=\"currentColor\" text-anchor=\"middle\">prep</textPath>\n",
              "    </text>\n",
              "    <path class=\"displacy-arrowhead\" d=\"M7055.0,394.0 L7063.0,382.0 7047.0,382.0\" fill=\"currentColor\"/>\n",
              "</g>\n",
              "\n",
              "<g class=\"displacy-arrow\">\n",
              "    <path class=\"displacy-arc\" id=\"arrow-d30d4a1203704fc790bdd3acbe4ec23c-0-52\" stroke-width=\"2px\" d=\"M7090,392.0 C7090,327.0 7175.0,327.0 7175.0,392.0\" fill=\"none\" stroke=\"currentColor\"/>\n",
              "    <text dy=\"1.25em\" style=\"font-size: 0.8em; letter-spacing: 1px\">\n",
              "        <textPath xlink:href=\"#arrow-d30d4a1203704fc790bdd3acbe4ec23c-0-52\" class=\"displacy-label\" startOffset=\"50%\" side=\"left\" fill=\"currentColor\" text-anchor=\"middle\">pobj</textPath>\n",
              "    </text>\n",
              "    <path class=\"displacy-arrowhead\" d=\"M7175.0,394.0 L7183.0,382.0 7167.0,382.0\" fill=\"currentColor\"/>\n",
              "</g>\n",
              "\n",
              "<g class=\"displacy-arrow\">\n",
              "    <path class=\"displacy-arc\" id=\"arrow-d30d4a1203704fc790bdd3acbe4ec23c-0-53\" stroke-width=\"2px\" d=\"M7350,392.0 C7350,327.0 7435.0,327.0 7435.0,392.0\" fill=\"none\" stroke=\"currentColor\"/>\n",
              "    <text dy=\"1.25em\" style=\"font-size: 0.8em; letter-spacing: 1px\">\n",
              "        <textPath xlink:href=\"#arrow-d30d4a1203704fc790bdd3acbe4ec23c-0-53\" class=\"displacy-label\" startOffset=\"50%\" side=\"left\" fill=\"currentColor\" text-anchor=\"middle\">det</textPath>\n",
              "    </text>\n",
              "    <path class=\"displacy-arrowhead\" d=\"M7350,394.0 L7342,382.0 7358,382.0\" fill=\"currentColor\"/>\n",
              "</g>\n",
              "\n",
              "<g class=\"displacy-arrow\">\n",
              "    <path class=\"displacy-arc\" id=\"arrow-d30d4a1203704fc790bdd3acbe4ec23c-0-54\" stroke-width=\"2px\" d=\"M7480,392.0 C7480,262.0 7700.0,262.0 7700.0,392.0\" fill=\"none\" stroke=\"currentColor\"/>\n",
              "    <text dy=\"1.25em\" style=\"font-size: 0.8em; letter-spacing: 1px\">\n",
              "        <textPath xlink:href=\"#arrow-d30d4a1203704fc790bdd3acbe4ec23c-0-54\" class=\"displacy-label\" startOffset=\"50%\" side=\"left\" fill=\"currentColor\" text-anchor=\"middle\">nsubjpass</textPath>\n",
              "    </text>\n",
              "    <path class=\"displacy-arrowhead\" d=\"M7480,394.0 L7472,382.0 7488,382.0\" fill=\"currentColor\"/>\n",
              "</g>\n",
              "\n",
              "<g class=\"displacy-arrow\">\n",
              "    <path class=\"displacy-arc\" id=\"arrow-d30d4a1203704fc790bdd3acbe4ec23c-0-55\" stroke-width=\"2px\" d=\"M7610,392.0 C7610,327.0 7695.0,327.0 7695.0,392.0\" fill=\"none\" stroke=\"currentColor\"/>\n",
              "    <text dy=\"1.25em\" style=\"font-size: 0.8em; letter-spacing: 1px\">\n",
              "        <textPath xlink:href=\"#arrow-d30d4a1203704fc790bdd3acbe4ec23c-0-55\" class=\"displacy-label\" startOffset=\"50%\" side=\"left\" fill=\"currentColor\" text-anchor=\"middle\">auxpass</textPath>\n",
              "    </text>\n",
              "    <path class=\"displacy-arrowhead\" d=\"M7610,394.0 L7602,382.0 7618,382.0\" fill=\"currentColor\"/>\n",
              "</g>\n",
              "\n",
              "<g class=\"displacy-arrow\">\n",
              "    <path class=\"displacy-arc\" id=\"arrow-d30d4a1203704fc790bdd3acbe4ec23c-0-56\" stroke-width=\"2px\" d=\"M7740,392.0 C7740,327.0 7825.0,327.0 7825.0,392.0\" fill=\"none\" stroke=\"currentColor\"/>\n",
              "    <text dy=\"1.25em\" style=\"font-size: 0.8em; letter-spacing: 1px\">\n",
              "        <textPath xlink:href=\"#arrow-d30d4a1203704fc790bdd3acbe4ec23c-0-56\" class=\"displacy-label\" startOffset=\"50%\" side=\"left\" fill=\"currentColor\" text-anchor=\"middle\">prep</textPath>\n",
              "    </text>\n",
              "    <path class=\"displacy-arrowhead\" d=\"M7825.0,394.0 L7833.0,382.0 7817.0,382.0\" fill=\"currentColor\"/>\n",
              "</g>\n",
              "\n",
              "<g class=\"displacy-arrow\">\n",
              "    <path class=\"displacy-arc\" id=\"arrow-d30d4a1203704fc790bdd3acbe4ec23c-0-57\" stroke-width=\"2px\" d=\"M7870,392.0 C7870,327.0 7955.0,327.0 7955.0,392.0\" fill=\"none\" stroke=\"currentColor\"/>\n",
              "    <text dy=\"1.25em\" style=\"font-size: 0.8em; letter-spacing: 1px\">\n",
              "        <textPath xlink:href=\"#arrow-d30d4a1203704fc790bdd3acbe4ec23c-0-57\" class=\"displacy-label\" startOffset=\"50%\" side=\"left\" fill=\"currentColor\" text-anchor=\"middle\">pobj</textPath>\n",
              "    </text>\n",
              "    <path class=\"displacy-arrowhead\" d=\"M7955.0,394.0 L7963.0,382.0 7947.0,382.0\" fill=\"currentColor\"/>\n",
              "</g>\n",
              "\n",
              "<g class=\"displacy-arrow\">\n",
              "    <path class=\"displacy-arc\" id=\"arrow-d30d4a1203704fc790bdd3acbe4ec23c-0-58\" stroke-width=\"2px\" d=\"M7740,392.0 C7740,262.0 8090.0,262.0 8090.0,392.0\" fill=\"none\" stroke=\"currentColor\"/>\n",
              "    <text dy=\"1.25em\" style=\"font-size: 0.8em; letter-spacing: 1px\">\n",
              "        <textPath xlink:href=\"#arrow-d30d4a1203704fc790bdd3acbe4ec23c-0-58\" class=\"displacy-label\" startOffset=\"50%\" side=\"left\" fill=\"currentColor\" text-anchor=\"middle\">prep</textPath>\n",
              "    </text>\n",
              "    <path class=\"displacy-arrowhead\" d=\"M8090.0,394.0 L8098.0,382.0 8082.0,382.0\" fill=\"currentColor\"/>\n",
              "</g>\n",
              "\n",
              "<g class=\"displacy-arrow\">\n",
              "    <path class=\"displacy-arc\" id=\"arrow-d30d4a1203704fc790bdd3acbe4ec23c-0-59\" stroke-width=\"2px\" d=\"M8260,392.0 C8260,327.0 8345.0,327.0 8345.0,392.0\" fill=\"none\" stroke=\"currentColor\"/>\n",
              "    <text dy=\"1.25em\" style=\"font-size: 0.8em; letter-spacing: 1px\">\n",
              "        <textPath xlink:href=\"#arrow-d30d4a1203704fc790bdd3acbe4ec23c-0-59\" class=\"displacy-label\" startOffset=\"50%\" side=\"left\" fill=\"currentColor\" text-anchor=\"middle\">nummod</textPath>\n",
              "    </text>\n",
              "    <path class=\"displacy-arrowhead\" d=\"M8260,394.0 L8252,382.0 8268,382.0\" fill=\"currentColor\"/>\n",
              "</g>\n",
              "\n",
              "<g class=\"displacy-arrow\">\n",
              "    <path class=\"displacy-arc\" id=\"arrow-d30d4a1203704fc790bdd3acbe4ec23c-0-60\" stroke-width=\"2px\" d=\"M8130,392.0 C8130,262.0 8350.0,262.0 8350.0,392.0\" fill=\"none\" stroke=\"currentColor\"/>\n",
              "    <text dy=\"1.25em\" style=\"font-size: 0.8em; letter-spacing: 1px\">\n",
              "        <textPath xlink:href=\"#arrow-d30d4a1203704fc790bdd3acbe4ec23c-0-60\" class=\"displacy-label\" startOffset=\"50%\" side=\"left\" fill=\"currentColor\" text-anchor=\"middle\">pobj</textPath>\n",
              "    </text>\n",
              "    <path class=\"displacy-arrowhead\" d=\"M8350.0,394.0 L8358.0,382.0 8342.0,382.0\" fill=\"currentColor\"/>\n",
              "</g>\n",
              "\n",
              "<g class=\"displacy-arrow\">\n",
              "    <path class=\"displacy-arc\" id=\"arrow-d30d4a1203704fc790bdd3acbe4ec23c-0-61\" stroke-width=\"2px\" d=\"M8390,392.0 C8390,327.0 8475.0,327.0 8475.0,392.0\" fill=\"none\" stroke=\"currentColor\"/>\n",
              "    <text dy=\"1.25em\" style=\"font-size: 0.8em; letter-spacing: 1px\">\n",
              "        <textPath xlink:href=\"#arrow-d30d4a1203704fc790bdd3acbe4ec23c-0-61\" class=\"displacy-label\" startOffset=\"50%\" side=\"left\" fill=\"currentColor\" text-anchor=\"middle\">nummod</textPath>\n",
              "    </text>\n",
              "    <path class=\"displacy-arrowhead\" d=\"M8475.0,394.0 L8483.0,382.0 8467.0,382.0\" fill=\"currentColor\"/>\n",
              "</g>\n",
              "</svg></span>"
            ]
          },
          "metadata": {}
        }
      ],
      "source": [
        "from spacy import displacy\n",
        "displacy.render(doc, style='dep', jupyter=True, options={'distance': 130})"
      ]
    },
    {
      "cell_type": "code",
      "execution_count": 76,
      "metadata": {
        "colab": {
          "base_uri": "https://localhost:8080/"
        },
        "id": "2KRJ0aDCYU8D",
        "outputId": "1e3b4182-ad6c-44bf-e57f-ada71715f4b6"
      },
      "outputs": [
        {
          "output_type": "execute_result",
          "data": {
            "text/plain": [
              "['Orange',\n",
              " \"the company's main brand\",\n",
              " 'mobile, landline, internet and IPTV services',\n",
              " 'It',\n",
              " 'Hutchison Whampoa',\n",
              " 'a controlling stake',\n",
              " 'Microtel Communications',\n",
              " 'the early 1990s',\n",
              " 'it',\n",
              " 'Orange',\n",
              " 'It',\n",
              " 'a subsidiary',\n",
              " 'Mannesmann',\n",
              " 'France Télécom',\n",
              " 'The company',\n",
              " 'Orange',\n",
              " '1 July']"
            ]
          },
          "metadata": {},
          "execution_count": 76
        }
      ],
      "source": [
        "#Extraction des groupes nominaux\n",
        "# doc.noun_chunks is a generator that yields spans\n",
        "[chunk.text for chunk in doc.noun_chunks]"
      ]
    },
    {
      "cell_type": "markdown",
      "metadata": {
        "id": "OZRksLQ2YU8D"
      },
      "source": [
        "### Traitement des entités nommées"
      ]
    },
    {
      "cell_type": "markdown",
      "metadata": {
        "id": "SQO8bvArYU8E"
      },
      "source": [
        "Reconnaissance d'entités nommées\n",
        "SpaCy dispose d’un système de reconnaissance d’entités statistiques (NER ou Named Entity Recognition) très performant et qui va assigner des étiquettes à des plages contiguës de tokens. \n",
        "Celui-ci existe pour la langue anglaise et allemande, les modèles français et espagnol ne sont pas encore disponibles. \n",
        "Space compte 17 catégories d'entités."
      ]
    },
    {
      "cell_type": "code",
      "execution_count": 77,
      "metadata": {
        "colab": {
          "base_uri": "https://localhost:8080/"
        },
        "id": "cGuAcUEYYU8E",
        "outputId": "175efc9b-6803-419c-a72a-d076eea4e9a3"
      },
      "outputs": [
        {
          "output_type": "stream",
          "name": "stdout",
          "text": [
            "2006 DATE\n",
            "1994 DATE\n",
            "Hutchison Whampoa ORG\n",
            "Microtel Communications ORG\n",
            "the early 1990s DATE\n",
            "Mannesmann ORG\n",
            "1999 DATE\n",
            "France Télécom ORG\n",
            "2000 DATE\n",
            "Orange GPE\n",
            "1 July 2013 DATE\n"
          ]
        }
      ],
      "source": [
        "for ent in doc.ents:\n",
        "    print(ent.text, ent.label_)"
      ]
    },
    {
      "cell_type": "markdown",
      "metadata": {
        "id": "uIpVmuziYU8E"
      },
      "source": [
        "Le code précédent parcours les mots dans leur contexte et va reconnaître que France Telecom est une organisation,  et que 1 July 2013 est une date.\n",
        "Spacy offre des « Visualizers », des outils graphiques qui permettent d’afficher les résultats de reconnaissances d’entités nommées ou d’étiquetage par exemple."
      ]
    },
    {
      "cell_type": "code",
      "execution_count": 78,
      "metadata": {
        "colab": {
          "base_uri": "https://localhost:8080/",
          "height": 122
        },
        "id": "FUiKiZxZYU8E",
        "outputId": "cfca147f-65c2-4f21-9203-d1b330f33409"
      },
      "outputs": [
        {
          "output_type": "display_data",
          "data": {
            "text/plain": [
              "<IPython.core.display.HTML object>"
            ],
            "text/html": [
              "<span class=\"tex2jax_ignore\"><div class=\"entities\" style=\"line-height: 2.5; direction: ltr\">Orange has been the company's main brand for mobile, landline, internet and IPTV services since \n",
              "<mark class=\"entity\" style=\"background: #bfe1d9; padding: 0.45em 0.6em; margin: 0 0.25em; line-height: 1; border-radius: 0.35em;\">\n",
              "    2006\n",
              "    <span style=\"font-size: 0.8em; font-weight: bold; line-height: 1; border-radius: 0.35em; vertical-align: middle; margin-left: 0.5rem\">DATE</span>\n",
              "</mark>\n",
              ". It originated in \n",
              "<mark class=\"entity\" style=\"background: #bfe1d9; padding: 0.45em 0.6em; margin: 0 0.25em; line-height: 1; border-radius: 0.35em;\">\n",
              "    1994\n",
              "    <span style=\"font-size: 0.8em; font-weight: bold; line-height: 1; border-radius: 0.35em; vertical-align: middle; margin-left: 0.5rem\">DATE</span>\n",
              "</mark>\n",
              " when \n",
              "<mark class=\"entity\" style=\"background: #7aecec; padding: 0.45em 0.6em; margin: 0 0.25em; line-height: 1; border-radius: 0.35em;\">\n",
              "    Hutchison Whampoa\n",
              "    <span style=\"font-size: 0.8em; font-weight: bold; line-height: 1; border-radius: 0.35em; vertical-align: middle; margin-left: 0.5rem\">ORG</span>\n",
              "</mark>\n",
              " acquired a controlling stake in \n",
              "<mark class=\"entity\" style=\"background: #7aecec; padding: 0.45em 0.6em; margin: 0 0.25em; line-height: 1; border-radius: 0.35em;\">\n",
              "    Microtel Communications\n",
              "    <span style=\"font-size: 0.8em; font-weight: bold; line-height: 1; border-radius: 0.35em; vertical-align: middle; margin-left: 0.5rem\">ORG</span>\n",
              "</mark>\n",
              " during \n",
              "<mark class=\"entity\" style=\"background: #bfe1d9; padding: 0.45em 0.6em; margin: 0 0.25em; line-height: 1; border-radius: 0.35em;\">\n",
              "    the early 1990s\n",
              "    <span style=\"font-size: 0.8em; font-weight: bold; line-height: 1; border-radius: 0.35em; vertical-align: middle; margin-left: 0.5rem\">DATE</span>\n",
              "</mark>\n",
              " and rebranded it as &quot;Orange&quot;. It became a subsidiary of \n",
              "<mark class=\"entity\" style=\"background: #7aecec; padding: 0.45em 0.6em; margin: 0 0.25em; line-height: 1; border-radius: 0.35em;\">\n",
              "    Mannesmann\n",
              "    <span style=\"font-size: 0.8em; font-weight: bold; line-height: 1; border-radius: 0.35em; vertical-align: middle; margin-left: 0.5rem\">ORG</span>\n",
              "</mark>\n",
              " in \n",
              "<mark class=\"entity\" style=\"background: #bfe1d9; padding: 0.45em 0.6em; margin: 0 0.25em; line-height: 1; border-radius: 0.35em;\">\n",
              "    1999\n",
              "    <span style=\"font-size: 0.8em; font-weight: bold; line-height: 1; border-radius: 0.35em; vertical-align: middle; margin-left: 0.5rem\">DATE</span>\n",
              "</mark>\n",
              " and was acquired by \n",
              "<mark class=\"entity\" style=\"background: #7aecec; padding: 0.45em 0.6em; margin: 0 0.25em; line-height: 1; border-radius: 0.35em;\">\n",
              "    France Télécom\n",
              "    <span style=\"font-size: 0.8em; font-weight: bold; line-height: 1; border-radius: 0.35em; vertical-align: middle; margin-left: 0.5rem\">ORG</span>\n",
              "</mark>\n",
              " in \n",
              "<mark class=\"entity\" style=\"background: #bfe1d9; padding: 0.45em 0.6em; margin: 0 0.25em; line-height: 1; border-radius: 0.35em;\">\n",
              "    2000\n",
              "    <span style=\"font-size: 0.8em; font-weight: bold; line-height: 1; border-radius: 0.35em; vertical-align: middle; margin-left: 0.5rem\">DATE</span>\n",
              "</mark>\n",
              ". The company was rebranded as \n",
              "<mark class=\"entity\" style=\"background: #feca74; padding: 0.45em 0.6em; margin: 0 0.25em; line-height: 1; border-radius: 0.35em;\">\n",
              "    Orange\n",
              "    <span style=\"font-size: 0.8em; font-weight: bold; line-height: 1; border-radius: 0.35em; vertical-align: middle; margin-left: 0.5rem\">GPE</span>\n",
              "</mark>\n",
              " on \n",
              "<mark class=\"entity\" style=\"background: #bfe1d9; padding: 0.45em 0.6em; margin: 0 0.25em; line-height: 1; border-radius: 0.35em;\">\n",
              "    1 July 2013\n",
              "    <span style=\"font-size: 0.8em; font-weight: bold; line-height: 1; border-radius: 0.35em; vertical-align: middle; margin-left: 0.5rem\">DATE</span>\n",
              "</mark>\n",
              ".</div></span>"
            ]
          },
          "metadata": {}
        }
      ],
      "source": [
        "from spacy import displacy\n",
        "\n",
        "displacy.render(doc, style=\"ent\", jupyter=True)"
      ]
    },
    {
      "cell_type": "markdown",
      "metadata": {
        "id": "TWjdMoYxYU8F"
      },
      "source": [
        "# NLTK VS SPACY\n",
        "SpaCy et NLTK ont une façon très différente de traiter un texte. NLTK traite des chaînes de caractères alors que SpaCy a une approche plus orientée objet. \n",
        "En effet, NLTK fournit un ensemble de fonctions permettant d’effectuer une tâche de NLP (pos_tag() pour le POS-Tagging, sent_tokenize() pour la segmentation de phrases, word_tokenize() pour la tokenisation,...). Ces fonctions prennent en général une chaîne de caractères ou une liste de chaînes de caractères en paramètre d’entrée et renvoient également une chaîne ou une liste de chaînes. Il suffit donc à l’utilisateur de déterminer la fonction correspondant à la tâche qu’il veut effectuer puis de lui fournir son texte sous forme de chaîne de caractères.\n",
        "SpaCy fonctionne différemment. Le texte, sous forme de chaîne de caractères, doit passer par un “language processing pipeline” spécifique à la langue du texte (l’anglais, le français, l’espagnol et l’allemand sont pour l’instant supportées par SpaCy). En sortie du pipeline, on obtient un objet Doc (en) qui est un conteneur permettant d’accéder aux annotations linguistiques. Chaque élément ou ensemble d'éléments d’un Doc est également représenté par un objet possédant des attributs, des méthodes et des propriétés qui permettent d’accéder aux informations linguistiques souhaitées. Cette approche est donc beaucoup plus moderne et “pythonic” que celle utilisée par NLTK.\n",
        "\n",
        "# À FAIRE\n",
        "\n",
        "Appliquer sur un texte (prendre par exemple un discours d'un des candidats (cf. TD1) les différents traitements linguistiques présentés pendant le cours : \n",
        "#### - traitement de la casse, traitement des formes élidées, suppression de la ponctuation\n",
        "#### - élimination des mots vides et tockenisation\n",
        "#### - lemmatisation\n",
        "#### - étiquetage des catégories grammaticales  : \n",
        "##### extraire par exemple les 50 noms (communs ou propres) les plus fréquents\n",
        "##### extraire également d’autres patrons d’étiquettes (par exemple, le couple NOM + ADJ, nom + verbe, ...). Déterminer quels sont les patrons qui vous semblent les plus pertinents et afficher la liste des groupes de mots extraits..\n",
        "#### - découpage en bi-grammes, tri-grammes (avec filtrage pour ne garder que les n-grammes les plus pertinents). Une façon possible de filtrer les bi-grammes pertinents est de ne garder que ceux qui ne contiennent pas de mots-vides.\n",
        "#### - extraction des groupes nominaux (chunks)\n",
        "#### - reconnaissance d'entités nommées\n",
        "Trouver la ou les représentations qui vous semblent les plus pertinentes pour représenter le contenu du texte et visualiser-les avec un nuage de mots."
      ]
    },
    {
      "cell_type": "code",
      "execution_count": 78,
      "metadata": {
        "id": "Vz8LAeJFYU8F"
      },
      "outputs": [],
      "source": []
    }
  ],
  "metadata": {
    "kernelspec": {
      "display_name": "Python 3",
      "language": "python",
      "name": "python3"
    },
    "language_info": {
      "codemirror_mode": {
        "name": "ipython",
        "version": 3
      },
      "file_extension": ".py",
      "mimetype": "text/x-python",
      "name": "python",
      "nbconvert_exporter": "python",
      "pygments_lexer": "ipython3",
      "version": "3.8.3"
    },
    "colab": {
      "provenance": [],
      "collapsed_sections": [
        "9qpVVFeuYU7f",
        "DcnFETCzYU7h",
        "LDfkPl_oYU7l",
        "qkFUZpzPYU7r",
        "wWnE9z8ZYU7t",
        "UhJcwvceYU7x",
        "T15OkK4ZYU74",
        "HS3-JZSCYU75",
        "XSKQsKO0YU76",
        "70qPyWwHYU76",
        "FPUf4hpCYU78"
      ],
      "include_colab_link": true
    }
  },
  "nbformat": 4,
  "nbformat_minor": 0
}